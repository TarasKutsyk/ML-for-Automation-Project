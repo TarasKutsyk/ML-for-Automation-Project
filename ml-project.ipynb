{
 "cells": [
  {
   "cell_type": "markdown",
   "id": "8c316dc0",
   "metadata": {
    "papermill": {
     "duration": 0.018467,
     "end_time": "2024-01-28T09:35:06.799120",
     "exception": false,
     "start_time": "2024-01-28T09:35:06.780653",
     "status": "completed"
    },
    "tags": []
   },
   "source": [
    "# Importing the libraries"
   ]
  },
  {
   "cell_type": "code",
   "execution_count": 1,
   "id": "ff930188",
   "metadata": {
    "_kg_hide-output": false,
    "execution": {
     "iopub.execute_input": "2024-01-28T09:35:06.837679Z",
     "iopub.status.busy": "2024-01-28T09:35:06.836737Z",
     "iopub.status.idle": "2024-01-28T09:35:10.459598Z",
     "shell.execute_reply": "2024-01-28T09:35:10.458261Z"
    },
    "papermill": {
     "duration": 3.645075,
     "end_time": "2024-01-28T09:35:10.462195",
     "exception": false,
     "start_time": "2024-01-28T09:35:06.817120",
     "status": "completed"
    },
    "tags": []
   },
   "outputs": [
    {
     "data": {
      "text/html": [
       "        <script type=\"text/javascript\">\n",
       "        window.PlotlyConfig = {MathJaxConfig: 'local'};\n",
       "        if (window.MathJax && window.MathJax.Hub && window.MathJax.Hub.Config) {window.MathJax.Hub.Config({SVG: {font: \"STIX-Web\"}});}\n",
       "        if (typeof require !== 'undefined') {\n",
       "        require.undef(\"plotly\");\n",
       "        requirejs.config({\n",
       "            paths: {\n",
       "                'plotly': ['https://cdn.plot.ly/plotly-2.25.2.min']\n",
       "            }\n",
       "        });\n",
       "        require(['plotly'], function(Plotly) {\n",
       "            window._Plotly = Plotly;\n",
       "        });\n",
       "        }\n",
       "        </script>\n",
       "        "
      ]
     },
     "metadata": {},
     "output_type": "display_data"
    },
    {
     "data": {
      "text/html": [
       "        <script type=\"text/javascript\">\n",
       "        window.PlotlyConfig = {MathJaxConfig: 'local'};\n",
       "        if (window.MathJax && window.MathJax.Hub && window.MathJax.Hub.Config) {window.MathJax.Hub.Config({SVG: {font: \"STIX-Web\"}});}\n",
       "        if (typeof require !== 'undefined') {\n",
       "        require.undef(\"plotly\");\n",
       "        requirejs.config({\n",
       "            paths: {\n",
       "                'plotly': ['https://cdn.plot.ly/plotly-2.25.2.min']\n",
       "            }\n",
       "        });\n",
       "        require(['plotly'], function(Plotly) {\n",
       "            window._Plotly = Plotly;\n",
       "        });\n",
       "        }\n",
       "        </script>\n",
       "        "
      ]
     },
     "metadata": {},
     "output_type": "display_data"
    },
    {
     "data": {
      "text/html": [
       "        <script type=\"text/javascript\">\n",
       "        window.PlotlyConfig = {MathJaxConfig: 'local'};\n",
       "        if (window.MathJax && window.MathJax.Hub && window.MathJax.Hub.Config) {window.MathJax.Hub.Config({SVG: {font: \"STIX-Web\"}});}\n",
       "        if (typeof require !== 'undefined') {\n",
       "        require.undef(\"plotly\");\n",
       "        requirejs.config({\n",
       "            paths: {\n",
       "                'plotly': ['https://cdn.plot.ly/plotly-2.25.2.min']\n",
       "            }\n",
       "        });\n",
       "        require(['plotly'], function(Plotly) {\n",
       "            window._Plotly = Plotly;\n",
       "        });\n",
       "        }\n",
       "        </script>\n",
       "        "
      ]
     },
     "metadata": {},
     "output_type": "display_data"
    }
   ],
   "source": [
    "import numpy as np # linear algebra\n",
    "import pandas as pd # data processing, CSV file I/O (e.g. pd.read_csv)\n",
    "import gc\n",
    "\n",
    "# Import libraries for plotting\n",
    "import matplotlib.pyplot as plt\n",
    "%matplotlib inline\n",
    "\n",
    "import seaborn as sns\n",
    "import matplotlib.patches as patches\n",
    "from plotly import tools, subplots\n",
    "import plotly.offline as py\n",
    "\n",
    "# Configure the libraries\n",
    "py.init_notebook_mode(connected=True)\n",
    "import plotly.graph_objs as go\n",
    "import plotly.express as px\n",
    "pd.set_option('display.max_columns', 150)\n",
    "\n",
    "py.init_notebook_mode(connected=True)\n",
    "from plotly.offline import init_notebook_mode, iplot\n",
    "init_notebook_mode(connected=True)\n",
    "import plotly.graph_objs as go\n",
    "\n",
    "import os,random, math, psutil, pickle    "
   ]
  },
  {
   "cell_type": "markdown",
   "id": "36487ed1",
   "metadata": {
    "papermill": {
     "duration": 0.018331,
     "end_time": "2024-01-28T09:35:10.499757",
     "exception": false,
     "start_time": "2024-01-28T09:35:10.481426",
     "status": "completed"
    },
    "tags": []
   },
   "source": [
    "# Loading the data"
   ]
  },
  {
   "cell_type": "code",
   "execution_count": 2,
   "id": "eb181bfc",
   "metadata": {
    "execution": {
     "iopub.execute_input": "2024-01-28T09:35:10.538663Z",
     "iopub.status.busy": "2024-01-28T09:35:10.538063Z",
     "iopub.status.idle": "2024-01-28T09:35:10.546046Z",
     "shell.execute_reply": "2024-01-28T09:35:10.544647Z"
    },
    "papermill": {
     "duration": 0.030277,
     "end_time": "2024-01-28T09:35:10.548436",
     "exception": false,
     "start_time": "2024-01-28T09:35:10.518159",
     "status": "completed"
    },
    "tags": []
   },
   "outputs": [
    {
     "name": "stdout",
     "output_type": "stream",
     "text": [
      "/kaggle/input/ashrae-energy-prediction/sample_submission.csv\n",
      "/kaggle/input/ashrae-energy-prediction/building_metadata.csv\n",
      "/kaggle/input/ashrae-energy-prediction/weather_train.csv\n",
      "/kaggle/input/ashrae-energy-prediction/weather_test.csv\n",
      "/kaggle/input/ashrae-energy-prediction/train.csv\n",
      "/kaggle/input/ashrae-energy-prediction/test.csv\n"
     ]
    }
   ],
   "source": [
    "# Input data files are available in the read-only \"../input/\" directory\n",
    "# Running this (by clicking run or pressing Shift+Enter) will list all files under the input directory\n",
    "\n",
    "import os\n",
    "for dirname, _, filenames in os.walk('/kaggle/input'):\n",
    "    for filename in filenames:\n",
    "        print(os.path.join(dirname, filename))\n",
    "\n",
    "# You can write up to 20GB to the current directory (/kaggle/working/) that gets preserved as output\n",
    "# when you create a version using \"Save & Run All\" "
   ]
  },
  {
   "cell_type": "code",
   "execution_count": 3,
   "id": "595e003e",
   "metadata": {
    "execution": {
     "iopub.execute_input": "2024-01-28T09:35:10.588218Z",
     "iopub.status.busy": "2024-01-28T09:35:10.587789Z",
     "iopub.status.idle": "2024-01-28T09:36:21.965575Z",
     "shell.execute_reply": "2024-01-28T09:36:21.964231Z"
    },
    "papermill": {
     "duration": 71.401482,
     "end_time": "2024-01-28T09:36:21.968640",
     "exception": false,
     "start_time": "2024-01-28T09:35:10.567158",
     "status": "completed"
    },
    "tags": []
   },
   "outputs": [],
   "source": [
    "root = '../input/ashrae-energy-prediction/'\n",
    "train = pd.read_csv(root + 'train.csv')\n",
    "\n",
    "weather_train = pd.read_csv(root + 'weather_train.csv')\n",
    "weather_test_df = pd.read_csv(root + 'weather_test.csv')\n",
    "building_meta_df = pd.read_csv(root + 'building_metadata.csv')\n",
    "\n",
    "test_df = pd.read_csv(root + 'test.csv')\n",
    "sample_submission = pd.read_csv(root + 'sample_submission.csv')"
   ]
  },
  {
   "cell_type": "code",
   "execution_count": 4,
   "id": "6e1a333e",
   "metadata": {
    "execution": {
     "iopub.execute_input": "2024-01-28T09:36:22.008299Z",
     "iopub.status.busy": "2024-01-28T09:36:22.007890Z",
     "iopub.status.idle": "2024-01-28T09:36:22.014237Z",
     "shell.execute_reply": "2024-01-28T09:36:22.013027Z"
    },
    "papermill": {
     "duration": 0.030511,
     "end_time": "2024-01-28T09:36:22.017947",
     "exception": false,
     "start_time": "2024-01-28T09:36:21.987436",
     "status": "completed"
    },
    "tags": []
   },
   "outputs": [
    {
     "name": "stdout",
     "output_type": "stream",
     "text": [
      "Size of train data (20216100, 4)\n",
      "Size of weather_train data (139773, 9)\n",
      "Size of weather_test_df data (277243, 9)\n",
      "Size of building_meta_df data (1449, 6)\n"
     ]
    }
   ],
   "source": [
    "print('Size of train data', train.shape)\n",
    "print('Size of weather_train data', weather_train.shape)\n",
    "print('Size of weather_test_df data', weather_test_df.shape)\n",
    "print('Size of building_meta_df data', building_meta_df.shape)"
   ]
  },
  {
   "cell_type": "code",
   "execution_count": 5,
   "id": "c1bf3e60",
   "metadata": {
    "execution": {
     "iopub.execute_input": "2024-01-28T09:36:22.058763Z",
     "iopub.status.busy": "2024-01-28T09:36:22.058098Z",
     "iopub.status.idle": "2024-01-28T09:37:05.346890Z",
     "shell.execute_reply": "2024-01-28T09:37:05.343912Z"
    },
    "papermill": {
     "duration": 43.315911,
     "end_time": "2024-01-28T09:37:05.353038",
     "exception": false,
     "start_time": "2024-01-28T09:36:22.037127",
     "status": "completed"
    },
    "tags": []
   },
   "outputs": [],
   "source": [
    "# Merge the dataframes on the key fields to get the full dataset\n",
    "train_full = train.merge(building_meta_df, on='building_id', how='left')\n",
    "test_full = test_df.merge(building_meta_df, on='building_id', how='left')\n",
    "\n",
    "train_full = train_full.merge(weather_train, on=['site_id', 'timestamp'], how='left')\n",
    "test_full = test_full.merge(weather_test_df, on=['site_id', 'timestamp'], how='left')"
   ]
  },
  {
   "cell_type": "markdown",
   "id": "fee98e2c",
   "metadata": {
    "papermill": {
     "duration": 0.019139,
     "end_time": "2024-01-28T09:37:05.395551",
     "exception": false,
     "start_time": "2024-01-28T09:37:05.376412",
     "status": "completed"
    },
    "tags": []
   },
   "source": [
    "Truncate all floats to four decimal places to save memory"
   ]
  },
  {
   "cell_type": "code",
   "execution_count": 6,
   "id": "b2c14f4b",
   "metadata": {
    "_kg_hide-input": true,
    "_kg_hide-output": true,
    "execution": {
     "iopub.execute_input": "2024-01-28T09:37:05.436924Z",
     "iopub.status.busy": "2024-01-28T09:37:05.435792Z",
     "iopub.status.idle": "2024-01-28T09:37:05.453132Z",
     "shell.execute_reply": "2024-01-28T09:37:05.451699Z"
    },
    "papermill": {
     "duration": 0.041704,
     "end_time": "2024-01-28T09:37:05.455972",
     "exception": false,
     "start_time": "2024-01-28T09:37:05.414268",
     "status": "completed"
    },
    "tags": []
   },
   "outputs": [],
   "source": [
    "def reduce_mem_usage(df, verbose=True):\n",
    "    numerics = ['int16', 'int32', 'int64', 'float16', 'float32', 'float64']\n",
    "    start_mem = df.memory_usage().sum() / 1024**2    \n",
    "    for col in df.columns:\n",
    "        col_type = df[col].dtypes\n",
    "        if col_type in numerics:\n",
    "            c_min = df[col].min()\n",
    "            c_max = df[col].max()\n",
    "            if str(col_type)[:3] == 'int':\n",
    "                # Choose appropriate reduced int type for integer columns\n",
    "                if c_min > np.iinfo(np.int8).min and c_max < np.iinfo(np.int8).max:\n",
    "                    df[col] = df[col].astype(np.int8)\n",
    "                elif c_min > np.iinfo(np.int16).min and c_max < np.iinfo(np.int16).max:\n",
    "                    df[col] = df[col].astype(np.int16)\n",
    "                elif c_min > np.iinfo(np.int32).min and c_max < np.iinfo(np.int32).max:\n",
    "                    df[col] = df[col].astype(np.int32)\n",
    "                elif c_min > np.iinfo(np.int64).min and c_max < np.iinfo(np.int64).max:\n",
    "                    df[col] = df[col].astype(np.int64)  \n",
    "            else: \n",
    "                # Choose appropriate reduced float type for floating point columns\n",
    "                if c_min > np.finfo(np.float16).min and c_max < np.finfo(np.float16).max:\n",
    "                    df[col] = df[col].astype(np.float16)\n",
    "                elif c_min > np.finfo(np.float32).min and c_max < np.finfo(np.float32).max:\n",
    "                    df[col] = df[col].astype(np.float32)\n",
    "                else:\n",
    "                    df[col] = df[col].astype(np.float64) \n",
    "                    \n",
    "    end_mem = df.memory_usage().sum() / 1024**2\n",
    "    if verbose: print('Mem. usage decreased to {:5.2f} Mb ({:.1f}% reduction)'.format(end_mem, 100 * (start_mem - end_mem) / start_mem))\n",
    "    return df"
   ]
  },
  {
   "cell_type": "code",
   "execution_count": 7,
   "id": "aba927b9",
   "metadata": {
    "_kg_hide-input": true,
    "_kg_hide-output": false,
    "execution": {
     "iopub.execute_input": "2024-01-28T09:37:05.496330Z",
     "iopub.status.busy": "2024-01-28T09:37:05.495612Z",
     "iopub.status.idle": "2024-01-28T09:37:18.339781Z",
     "shell.execute_reply": "2024-01-28T09:37:18.338211Z"
    },
    "papermill": {
     "duration": 12.868016,
     "end_time": "2024-01-28T09:37:18.342657",
     "exception": false,
     "start_time": "2024-01-28T09:37:05.474641",
     "status": "completed"
    },
    "tags": []
   },
   "outputs": [
    {
     "name": "stdout",
     "output_type": "stream",
     "text": [
      "Mem. usage decreased to 289.19 Mb (53.1% reduction)\n",
      "Mem. usage decreased to 596.49 Mb (53.1% reduction)\n",
      "Mem. usage decreased to 886.86 Mb (64.1% reduction)\n",
      "Mem. usage decreased to 1829.23 Mb (64.1% reduction)\n",
      "Mem. usage decreased to  3.07 Mb (68.1% reduction)\n",
      "Mem. usage decreased to  6.08 Mb (68.1% reduction)\n",
      "Mem. usage decreased to  0.03 Mb (60.3% reduction)\n"
     ]
    }
   ],
   "source": [
    "# Reduce memory usage\n",
    "train = reduce_mem_usage(train)\n",
    "test_df = reduce_mem_usage(test_df)\n",
    "\n",
    "train_full = reduce_mem_usage(train_full)\n",
    "test_full = reduce_mem_usage(test_full)\n",
    "\n",
    "weather_train = reduce_mem_usage(weather_train)\n",
    "weather_test_df = reduce_mem_usage(weather_test_df)\n",
    "building_meta_df = reduce_mem_usage(building_meta_df)"
   ]
  },
  {
   "cell_type": "code",
   "execution_count": 8,
   "id": "e5931a7c",
   "metadata": {
    "execution": {
     "iopub.execute_input": "2024-01-28T09:37:18.384280Z",
     "iopub.status.busy": "2024-01-28T09:37:18.383871Z",
     "iopub.status.idle": "2024-01-28T09:37:36.451390Z",
     "shell.execute_reply": "2024-01-28T09:37:36.450139Z"
    },
    "papermill": {
     "duration": 18.092628,
     "end_time": "2024-01-28T09:37:36.454876",
     "exception": false,
     "start_time": "2024-01-28T09:37:18.362248",
     "status": "completed"
    },
    "tags": []
   },
   "outputs": [],
   "source": [
    "# Converting from string to datetime columns\n",
    "train[\"timestamp\"] = pd.to_datetime(train[\"timestamp\"], format='%Y-%m-%d %H:%M:%S')\n",
    "train_full[\"timestamp\"] = pd.to_datetime(train_full[\"timestamp\"])\n",
    "test_full[\"timestamp\"] = pd.to_datetime(test_full[\"timestamp\"])"
   ]
  },
  {
   "cell_type": "markdown",
   "id": "b25c108d",
   "metadata": {
    "papermill": {
     "duration": 0.018875,
     "end_time": "2024-01-28T09:37:36.602328",
     "exception": false,
     "start_time": "2024-01-28T09:37:36.583453",
     "status": "completed"
    },
    "tags": []
   },
   "source": [
    "# Taking a glimpse at the data"
   ]
  },
  {
   "cell_type": "code",
   "execution_count": 9,
   "id": "ed42a168",
   "metadata": {
    "execution": {
     "iopub.execute_input": "2024-01-28T09:37:36.643467Z",
     "iopub.status.busy": "2024-01-28T09:37:36.642336Z",
     "iopub.status.idle": "2024-01-28T09:37:36.678572Z",
     "shell.execute_reply": "2024-01-28T09:37:36.677447Z"
    },
    "papermill": {
     "duration": 0.059651,
     "end_time": "2024-01-28T09:37:36.681047",
     "exception": false,
     "start_time": "2024-01-28T09:37:36.621396",
     "status": "completed"
    },
    "tags": []
   },
   "outputs": [
    {
     "data": {
      "text/html": [
       "<div>\n",
       "<style scoped>\n",
       "    .dataframe tbody tr th:only-of-type {\n",
       "        vertical-align: middle;\n",
       "    }\n",
       "\n",
       "    .dataframe tbody tr th {\n",
       "        vertical-align: top;\n",
       "    }\n",
       "\n",
       "    .dataframe thead th {\n",
       "        text-align: right;\n",
       "    }\n",
       "</style>\n",
       "<table border=\"1\" class=\"dataframe\">\n",
       "  <thead>\n",
       "    <tr style=\"text-align: right;\">\n",
       "      <th></th>\n",
       "      <th>building_id</th>\n",
       "      <th>meter</th>\n",
       "      <th>timestamp</th>\n",
       "      <th>meter_reading</th>\n",
       "    </tr>\n",
       "  </thead>\n",
       "  <tbody>\n",
       "    <tr>\n",
       "      <th>0</th>\n",
       "      <td>0</td>\n",
       "      <td>0</td>\n",
       "      <td>2016-01-01 00:00:00</td>\n",
       "      <td>0.000000</td>\n",
       "    </tr>\n",
       "    <tr>\n",
       "      <th>1</th>\n",
       "      <td>1</td>\n",
       "      <td>0</td>\n",
       "      <td>2016-01-01 00:00:00</td>\n",
       "      <td>0.000000</td>\n",
       "    </tr>\n",
       "    <tr>\n",
       "      <th>2</th>\n",
       "      <td>2</td>\n",
       "      <td>0</td>\n",
       "      <td>2016-01-01 00:00:00</td>\n",
       "      <td>0.000000</td>\n",
       "    </tr>\n",
       "    <tr>\n",
       "      <th>3</th>\n",
       "      <td>3</td>\n",
       "      <td>0</td>\n",
       "      <td>2016-01-01 00:00:00</td>\n",
       "      <td>0.000000</td>\n",
       "    </tr>\n",
       "    <tr>\n",
       "      <th>4</th>\n",
       "      <td>4</td>\n",
       "      <td>0</td>\n",
       "      <td>2016-01-01 00:00:00</td>\n",
       "      <td>0.000000</td>\n",
       "    </tr>\n",
       "    <tr>\n",
       "      <th>...</th>\n",
       "      <td>...</td>\n",
       "      <td>...</td>\n",
       "      <td>...</td>\n",
       "      <td>...</td>\n",
       "    </tr>\n",
       "    <tr>\n",
       "      <th>20216095</th>\n",
       "      <td>1444</td>\n",
       "      <td>0</td>\n",
       "      <td>2016-12-31 23:00:00</td>\n",
       "      <td>8.750000</td>\n",
       "    </tr>\n",
       "    <tr>\n",
       "      <th>20216096</th>\n",
       "      <td>1445</td>\n",
       "      <td>0</td>\n",
       "      <td>2016-12-31 23:00:00</td>\n",
       "      <td>4.825000</td>\n",
       "    </tr>\n",
       "    <tr>\n",
       "      <th>20216097</th>\n",
       "      <td>1446</td>\n",
       "      <td>0</td>\n",
       "      <td>2016-12-31 23:00:00</td>\n",
       "      <td>0.000000</td>\n",
       "    </tr>\n",
       "    <tr>\n",
       "      <th>20216098</th>\n",
       "      <td>1447</td>\n",
       "      <td>0</td>\n",
       "      <td>2016-12-31 23:00:00</td>\n",
       "      <td>159.574997</td>\n",
       "    </tr>\n",
       "    <tr>\n",
       "      <th>20216099</th>\n",
       "      <td>1448</td>\n",
       "      <td>0</td>\n",
       "      <td>2016-12-31 23:00:00</td>\n",
       "      <td>2.850000</td>\n",
       "    </tr>\n",
       "  </tbody>\n",
       "</table>\n",
       "<p>20216100 rows × 4 columns</p>\n",
       "</div>"
      ],
      "text/plain": [
       "          building_id  meter           timestamp  meter_reading\n",
       "0                   0      0 2016-01-01 00:00:00       0.000000\n",
       "1                   1      0 2016-01-01 00:00:00       0.000000\n",
       "2                   2      0 2016-01-01 00:00:00       0.000000\n",
       "3                   3      0 2016-01-01 00:00:00       0.000000\n",
       "4                   4      0 2016-01-01 00:00:00       0.000000\n",
       "...               ...    ...                 ...            ...\n",
       "20216095         1444      0 2016-12-31 23:00:00       8.750000\n",
       "20216096         1445      0 2016-12-31 23:00:00       4.825000\n",
       "20216097         1446      0 2016-12-31 23:00:00       0.000000\n",
       "20216098         1447      0 2016-12-31 23:00:00     159.574997\n",
       "20216099         1448      0 2016-12-31 23:00:00       2.850000\n",
       "\n",
       "[20216100 rows x 4 columns]"
      ]
     },
     "execution_count": 9,
     "metadata": {},
     "output_type": "execute_result"
    }
   ],
   "source": [
    "train"
   ]
  },
  {
   "cell_type": "code",
   "execution_count": 10,
   "id": "834b7ab3",
   "metadata": {
    "execution": {
     "iopub.execute_input": "2024-01-28T09:37:36.722305Z",
     "iopub.status.busy": "2024-01-28T09:37:36.721296Z",
     "iopub.status.idle": "2024-01-28T09:37:36.762294Z",
     "shell.execute_reply": "2024-01-28T09:37:36.761160Z"
    },
    "papermill": {
     "duration": 0.064556,
     "end_time": "2024-01-28T09:37:36.765000",
     "exception": false,
     "start_time": "2024-01-28T09:37:36.700444",
     "status": "completed"
    },
    "tags": []
   },
   "outputs": [
    {
     "data": {
      "text/plain": [
       "True"
      ]
     },
     "execution_count": 10,
     "metadata": {},
     "output_type": "execute_result"
    }
   ],
   "source": [
    "train.timestamp.is_monotonic_increasing "
   ]
  },
  {
   "cell_type": "markdown",
   "id": "1aa6ed82",
   "metadata": {
    "papermill": {
     "duration": 0.019498,
     "end_time": "2024-01-28T09:37:36.804450",
     "exception": false,
     "start_time": "2024-01-28T09:37:36.784952",
     "status": "completed"
    },
    "tags": []
   },
   "source": [
    "So we can see that the **training dataset spans the year 2016**, with the data of almost 1450 buildings."
   ]
  },
  {
   "cell_type": "code",
   "execution_count": 11,
   "id": "07fa50e2",
   "metadata": {
    "execution": {
     "iopub.execute_input": "2024-01-28T09:37:36.846343Z",
     "iopub.status.busy": "2024-01-28T09:37:36.845917Z",
     "iopub.status.idle": "2024-01-28T09:37:36.871068Z",
     "shell.execute_reply": "2024-01-28T09:37:36.869904Z"
    },
    "papermill": {
     "duration": 0.049135,
     "end_time": "2024-01-28T09:37:36.873669",
     "exception": false,
     "start_time": "2024-01-28T09:37:36.824534",
     "status": "completed"
    },
    "tags": []
   },
   "outputs": [
    {
     "data": {
      "text/html": [
       "<div>\n",
       "<style scoped>\n",
       "    .dataframe tbody tr th:only-of-type {\n",
       "        vertical-align: middle;\n",
       "    }\n",
       "\n",
       "    .dataframe tbody tr th {\n",
       "        vertical-align: top;\n",
       "    }\n",
       "\n",
       "    .dataframe thead th {\n",
       "        text-align: right;\n",
       "    }\n",
       "</style>\n",
       "<table border=\"1\" class=\"dataframe\">\n",
       "  <thead>\n",
       "    <tr style=\"text-align: right;\">\n",
       "      <th></th>\n",
       "      <th>site_id</th>\n",
       "      <th>timestamp</th>\n",
       "      <th>air_temperature</th>\n",
       "      <th>cloud_coverage</th>\n",
       "      <th>dew_temperature</th>\n",
       "      <th>precip_depth_1_hr</th>\n",
       "      <th>sea_level_pressure</th>\n",
       "      <th>wind_direction</th>\n",
       "      <th>wind_speed</th>\n",
       "    </tr>\n",
       "  </thead>\n",
       "  <tbody>\n",
       "    <tr>\n",
       "      <th>0</th>\n",
       "      <td>0</td>\n",
       "      <td>2016-01-01 00:00:00</td>\n",
       "      <td>25.000000</td>\n",
       "      <td>6.0</td>\n",
       "      <td>20.000000</td>\n",
       "      <td>NaN</td>\n",
       "      <td>1019.5</td>\n",
       "      <td>0.0</td>\n",
       "      <td>0.000000</td>\n",
       "    </tr>\n",
       "    <tr>\n",
       "      <th>1</th>\n",
       "      <td>0</td>\n",
       "      <td>2016-01-01 01:00:00</td>\n",
       "      <td>24.406250</td>\n",
       "      <td>NaN</td>\n",
       "      <td>21.093750</td>\n",
       "      <td>-1.0</td>\n",
       "      <td>1020.0</td>\n",
       "      <td>70.0</td>\n",
       "      <td>1.500000</td>\n",
       "    </tr>\n",
       "    <tr>\n",
       "      <th>2</th>\n",
       "      <td>0</td>\n",
       "      <td>2016-01-01 02:00:00</td>\n",
       "      <td>22.796875</td>\n",
       "      <td>2.0</td>\n",
       "      <td>21.093750</td>\n",
       "      <td>0.0</td>\n",
       "      <td>1020.0</td>\n",
       "      <td>0.0</td>\n",
       "      <td>0.000000</td>\n",
       "    </tr>\n",
       "    <tr>\n",
       "      <th>3</th>\n",
       "      <td>0</td>\n",
       "      <td>2016-01-01 03:00:00</td>\n",
       "      <td>21.093750</td>\n",
       "      <td>2.0</td>\n",
       "      <td>20.593750</td>\n",
       "      <td>0.0</td>\n",
       "      <td>1020.0</td>\n",
       "      <td>0.0</td>\n",
       "      <td>0.000000</td>\n",
       "    </tr>\n",
       "    <tr>\n",
       "      <th>4</th>\n",
       "      <td>0</td>\n",
       "      <td>2016-01-01 04:00:00</td>\n",
       "      <td>20.000000</td>\n",
       "      <td>2.0</td>\n",
       "      <td>20.000000</td>\n",
       "      <td>-1.0</td>\n",
       "      <td>1020.0</td>\n",
       "      <td>250.0</td>\n",
       "      <td>2.599609</td>\n",
       "    </tr>\n",
       "    <tr>\n",
       "      <th>...</th>\n",
       "      <td>...</td>\n",
       "      <td>...</td>\n",
       "      <td>...</td>\n",
       "      <td>...</td>\n",
       "      <td>...</td>\n",
       "      <td>...</td>\n",
       "      <td>...</td>\n",
       "      <td>...</td>\n",
       "      <td>...</td>\n",
       "    </tr>\n",
       "    <tr>\n",
       "      <th>139768</th>\n",
       "      <td>15</td>\n",
       "      <td>2016-12-31 19:00:00</td>\n",
       "      <td>3.000000</td>\n",
       "      <td>NaN</td>\n",
       "      <td>-8.000000</td>\n",
       "      <td>NaN</td>\n",
       "      <td>NaN</td>\n",
       "      <td>180.0</td>\n",
       "      <td>5.699219</td>\n",
       "    </tr>\n",
       "    <tr>\n",
       "      <th>139769</th>\n",
       "      <td>15</td>\n",
       "      <td>2016-12-31 20:00:00</td>\n",
       "      <td>2.800781</td>\n",
       "      <td>2.0</td>\n",
       "      <td>-8.898438</td>\n",
       "      <td>NaN</td>\n",
       "      <td>1007.5</td>\n",
       "      <td>180.0</td>\n",
       "      <td>7.699219</td>\n",
       "    </tr>\n",
       "    <tr>\n",
       "      <th>139770</th>\n",
       "      <td>15</td>\n",
       "      <td>2016-12-31 21:00:00</td>\n",
       "      <td>2.800781</td>\n",
       "      <td>NaN</td>\n",
       "      <td>-7.199219</td>\n",
       "      <td>NaN</td>\n",
       "      <td>1007.5</td>\n",
       "      <td>180.0</td>\n",
       "      <td>5.101562</td>\n",
       "    </tr>\n",
       "    <tr>\n",
       "      <th>139771</th>\n",
       "      <td>15</td>\n",
       "      <td>2016-12-31 22:00:00</td>\n",
       "      <td>2.199219</td>\n",
       "      <td>NaN</td>\n",
       "      <td>-6.699219</td>\n",
       "      <td>NaN</td>\n",
       "      <td>1008.0</td>\n",
       "      <td>170.0</td>\n",
       "      <td>4.601562</td>\n",
       "    </tr>\n",
       "    <tr>\n",
       "      <th>139772</th>\n",
       "      <td>15</td>\n",
       "      <td>2016-12-31 23:00:00</td>\n",
       "      <td>1.700195</td>\n",
       "      <td>NaN</td>\n",
       "      <td>-5.601562</td>\n",
       "      <td>-1.0</td>\n",
       "      <td>1008.5</td>\n",
       "      <td>180.0</td>\n",
       "      <td>8.796875</td>\n",
       "    </tr>\n",
       "  </tbody>\n",
       "</table>\n",
       "<p>139773 rows × 9 columns</p>\n",
       "</div>"
      ],
      "text/plain": [
       "        site_id            timestamp  air_temperature  cloud_coverage  \\\n",
       "0             0  2016-01-01 00:00:00        25.000000             6.0   \n",
       "1             0  2016-01-01 01:00:00        24.406250             NaN   \n",
       "2             0  2016-01-01 02:00:00        22.796875             2.0   \n",
       "3             0  2016-01-01 03:00:00        21.093750             2.0   \n",
       "4             0  2016-01-01 04:00:00        20.000000             2.0   \n",
       "...         ...                  ...              ...             ...   \n",
       "139768       15  2016-12-31 19:00:00         3.000000             NaN   \n",
       "139769       15  2016-12-31 20:00:00         2.800781             2.0   \n",
       "139770       15  2016-12-31 21:00:00         2.800781             NaN   \n",
       "139771       15  2016-12-31 22:00:00         2.199219             NaN   \n",
       "139772       15  2016-12-31 23:00:00         1.700195             NaN   \n",
       "\n",
       "        dew_temperature  precip_depth_1_hr  sea_level_pressure  \\\n",
       "0             20.000000                NaN              1019.5   \n",
       "1             21.093750               -1.0              1020.0   \n",
       "2             21.093750                0.0              1020.0   \n",
       "3             20.593750                0.0              1020.0   \n",
       "4             20.000000               -1.0              1020.0   \n",
       "...                 ...                ...                 ...   \n",
       "139768        -8.000000                NaN                 NaN   \n",
       "139769        -8.898438                NaN              1007.5   \n",
       "139770        -7.199219                NaN              1007.5   \n",
       "139771        -6.699219                NaN              1008.0   \n",
       "139772        -5.601562               -1.0              1008.5   \n",
       "\n",
       "        wind_direction  wind_speed  \n",
       "0                  0.0    0.000000  \n",
       "1                 70.0    1.500000  \n",
       "2                  0.0    0.000000  \n",
       "3                  0.0    0.000000  \n",
       "4                250.0    2.599609  \n",
       "...                ...         ...  \n",
       "139768           180.0    5.699219  \n",
       "139769           180.0    7.699219  \n",
       "139770           180.0    5.101562  \n",
       "139771           170.0    4.601562  \n",
       "139772           180.0    8.796875  \n",
       "\n",
       "[139773 rows x 9 columns]"
      ]
     },
     "execution_count": 11,
     "metadata": {},
     "output_type": "execute_result"
    }
   ],
   "source": [
    "weather_train"
   ]
  },
  {
   "cell_type": "code",
   "execution_count": 12,
   "id": "cd039811",
   "metadata": {
    "execution": {
     "iopub.execute_input": "2024-01-28T09:37:36.915879Z",
     "iopub.status.busy": "2024-01-28T09:37:36.915434Z",
     "iopub.status.idle": "2024-01-28T09:37:36.975656Z",
     "shell.execute_reply": "2024-01-28T09:37:36.974802Z"
    },
    "papermill": {
     "duration": 0.083686,
     "end_time": "2024-01-28T09:37:36.977818",
     "exception": false,
     "start_time": "2024-01-28T09:37:36.894132",
     "status": "completed"
    },
    "tags": []
   },
   "outputs": [
    {
     "name": "stdout",
     "output_type": "stream",
     "text": [
      "Weather data time span:  2016-01-01 00:00:00 — 2016-12-31 23:00:00\n",
      "Unique sites:  [ 0  1  2  3  4  5  6  7  8  9 10 11 12 13 14 15]\n"
     ]
    }
   ],
   "source": [
    "print('Weather data time span: ', weather_train.timestamp.min(), '—', weather_train.timestamp.max())\n",
    "print('Unique sites: ', weather_train.site_id.unique())"
   ]
  },
  {
   "cell_type": "markdown",
   "id": "e7df017f",
   "metadata": {
    "execution": {
     "iopub.execute_input": "2023-12-23T12:05:08.758990Z",
     "iopub.status.busy": "2023-12-23T12:05:08.758485Z",
     "iopub.status.idle": "2023-12-23T12:05:08.780374Z",
     "shell.execute_reply": "2023-12-23T12:05:08.779121Z",
     "shell.execute_reply.started": "2023-12-23T12:05:08.758953Z"
    },
    "papermill": {
     "duration": 0.020521,
     "end_time": "2024-01-28T09:37:37.019089",
     "exception": false,
     "start_time": "2024-01-28T09:37:36.998568",
     "status": "completed"
    },
    "tags": []
   },
   "source": [
    "As expected, the weather training data covers the same period. **There are 16 different sites** of the weather stations that provided this data (so that each building is associated/located near one of the sites, which we can see below)."
   ]
  },
  {
   "cell_type": "code",
   "execution_count": 13,
   "id": "5720ef19",
   "metadata": {
    "execution": {
     "iopub.execute_input": "2024-01-28T09:37:37.062627Z",
     "iopub.status.busy": "2024-01-28T09:37:37.061864Z",
     "iopub.status.idle": "2024-01-28T09:37:37.079663Z",
     "shell.execute_reply": "2024-01-28T09:37:37.078411Z"
    },
    "papermill": {
     "duration": 0.042557,
     "end_time": "2024-01-28T09:37:37.082132",
     "exception": false,
     "start_time": "2024-01-28T09:37:37.039575",
     "status": "completed"
    },
    "tags": []
   },
   "outputs": [
    {
     "data": {
      "text/html": [
       "<div>\n",
       "<style scoped>\n",
       "    .dataframe tbody tr th:only-of-type {\n",
       "        vertical-align: middle;\n",
       "    }\n",
       "\n",
       "    .dataframe tbody tr th {\n",
       "        vertical-align: top;\n",
       "    }\n",
       "\n",
       "    .dataframe thead th {\n",
       "        text-align: right;\n",
       "    }\n",
       "</style>\n",
       "<table border=\"1\" class=\"dataframe\">\n",
       "  <thead>\n",
       "    <tr style=\"text-align: right;\">\n",
       "      <th></th>\n",
       "      <th>site_id</th>\n",
       "      <th>building_id</th>\n",
       "      <th>primary_use</th>\n",
       "      <th>square_feet</th>\n",
       "      <th>year_built</th>\n",
       "      <th>floor_count</th>\n",
       "    </tr>\n",
       "  </thead>\n",
       "  <tbody>\n",
       "    <tr>\n",
       "      <th>0</th>\n",
       "      <td>0</td>\n",
       "      <td>0</td>\n",
       "      <td>Education</td>\n",
       "      <td>7432</td>\n",
       "      <td>2008.0</td>\n",
       "      <td>NaN</td>\n",
       "    </tr>\n",
       "    <tr>\n",
       "      <th>1</th>\n",
       "      <td>0</td>\n",
       "      <td>1</td>\n",
       "      <td>Education</td>\n",
       "      <td>2720</td>\n",
       "      <td>2004.0</td>\n",
       "      <td>NaN</td>\n",
       "    </tr>\n",
       "    <tr>\n",
       "      <th>2</th>\n",
       "      <td>0</td>\n",
       "      <td>2</td>\n",
       "      <td>Education</td>\n",
       "      <td>5376</td>\n",
       "      <td>1991.0</td>\n",
       "      <td>NaN</td>\n",
       "    </tr>\n",
       "    <tr>\n",
       "      <th>3</th>\n",
       "      <td>0</td>\n",
       "      <td>3</td>\n",
       "      <td>Education</td>\n",
       "      <td>23685</td>\n",
       "      <td>2002.0</td>\n",
       "      <td>NaN</td>\n",
       "    </tr>\n",
       "    <tr>\n",
       "      <th>4</th>\n",
       "      <td>0</td>\n",
       "      <td>4</td>\n",
       "      <td>Education</td>\n",
       "      <td>116607</td>\n",
       "      <td>1975.0</td>\n",
       "      <td>NaN</td>\n",
       "    </tr>\n",
       "    <tr>\n",
       "      <th>...</th>\n",
       "      <td>...</td>\n",
       "      <td>...</td>\n",
       "      <td>...</td>\n",
       "      <td>...</td>\n",
       "      <td>...</td>\n",
       "      <td>...</td>\n",
       "    </tr>\n",
       "    <tr>\n",
       "      <th>1444</th>\n",
       "      <td>15</td>\n",
       "      <td>1444</td>\n",
       "      <td>Entertainment/public assembly</td>\n",
       "      <td>19619</td>\n",
       "      <td>1914.0</td>\n",
       "      <td>NaN</td>\n",
       "    </tr>\n",
       "    <tr>\n",
       "      <th>1445</th>\n",
       "      <td>15</td>\n",
       "      <td>1445</td>\n",
       "      <td>Education</td>\n",
       "      <td>4298</td>\n",
       "      <td>NaN</td>\n",
       "      <td>NaN</td>\n",
       "    </tr>\n",
       "    <tr>\n",
       "      <th>1446</th>\n",
       "      <td>15</td>\n",
       "      <td>1446</td>\n",
       "      <td>Entertainment/public assembly</td>\n",
       "      <td>11265</td>\n",
       "      <td>1997.0</td>\n",
       "      <td>NaN</td>\n",
       "    </tr>\n",
       "    <tr>\n",
       "      <th>1447</th>\n",
       "      <td>15</td>\n",
       "      <td>1447</td>\n",
       "      <td>Lodging/residential</td>\n",
       "      <td>29775</td>\n",
       "      <td>2001.0</td>\n",
       "      <td>NaN</td>\n",
       "    </tr>\n",
       "    <tr>\n",
       "      <th>1448</th>\n",
       "      <td>15</td>\n",
       "      <td>1448</td>\n",
       "      <td>Office</td>\n",
       "      <td>92271</td>\n",
       "      <td>2001.0</td>\n",
       "      <td>NaN</td>\n",
       "    </tr>\n",
       "  </tbody>\n",
       "</table>\n",
       "<p>1449 rows × 6 columns</p>\n",
       "</div>"
      ],
      "text/plain": [
       "      site_id  building_id                    primary_use  square_feet  \\\n",
       "0           0            0                      Education         7432   \n",
       "1           0            1                      Education         2720   \n",
       "2           0            2                      Education         5376   \n",
       "3           0            3                      Education        23685   \n",
       "4           0            4                      Education       116607   \n",
       "...       ...          ...                            ...          ...   \n",
       "1444       15         1444  Entertainment/public assembly        19619   \n",
       "1445       15         1445                      Education         4298   \n",
       "1446       15         1446  Entertainment/public assembly        11265   \n",
       "1447       15         1447            Lodging/residential        29775   \n",
       "1448       15         1448                         Office        92271   \n",
       "\n",
       "      year_built  floor_count  \n",
       "0         2008.0          NaN  \n",
       "1         2004.0          NaN  \n",
       "2         1991.0          NaN  \n",
       "3         2002.0          NaN  \n",
       "4         1975.0          NaN  \n",
       "...          ...          ...  \n",
       "1444      1914.0          NaN  \n",
       "1445         NaN          NaN  \n",
       "1446      1997.0          NaN  \n",
       "1447      2001.0          NaN  \n",
       "1448      2001.0          NaN  \n",
       "\n",
       "[1449 rows x 6 columns]"
      ]
     },
     "execution_count": 13,
     "metadata": {},
     "output_type": "execute_result"
    }
   ],
   "source": [
    "building_meta_df"
   ]
  },
  {
   "cell_type": "code",
   "execution_count": 14,
   "id": "65581683",
   "metadata": {
    "execution": {
     "iopub.execute_input": "2024-01-28T09:37:37.127427Z",
     "iopub.status.busy": "2024-01-28T09:37:37.126515Z",
     "iopub.status.idle": "2024-01-28T09:37:37.140868Z",
     "shell.execute_reply": "2024-01-28T09:37:37.139603Z"
    },
    "papermill": {
     "duration": 0.040366,
     "end_time": "2024-01-28T09:37:37.143766",
     "exception": false,
     "start_time": "2024-01-28T09:37:37.103400",
     "status": "completed"
    },
    "tags": []
   },
   "outputs": [
    {
     "data": {
      "text/html": [
       "<div>\n",
       "<style scoped>\n",
       "    .dataframe tbody tr th:only-of-type {\n",
       "        vertical-align: middle;\n",
       "    }\n",
       "\n",
       "    .dataframe tbody tr th {\n",
       "        vertical-align: top;\n",
       "    }\n",
       "\n",
       "    .dataframe thead th {\n",
       "        text-align: right;\n",
       "    }\n",
       "</style>\n",
       "<table border=\"1\" class=\"dataframe\">\n",
       "  <thead>\n",
       "    <tr style=\"text-align: right;\">\n",
       "      <th></th>\n",
       "      <th>row_id</th>\n",
       "      <th>building_id</th>\n",
       "      <th>meter</th>\n",
       "      <th>timestamp</th>\n",
       "    </tr>\n",
       "  </thead>\n",
       "  <tbody>\n",
       "    <tr>\n",
       "      <th>0</th>\n",
       "      <td>0</td>\n",
       "      <td>0</td>\n",
       "      <td>0</td>\n",
       "      <td>2017-01-01 00:00:00</td>\n",
       "    </tr>\n",
       "    <tr>\n",
       "      <th>1</th>\n",
       "      <td>1</td>\n",
       "      <td>1</td>\n",
       "      <td>0</td>\n",
       "      <td>2017-01-01 00:00:00</td>\n",
       "    </tr>\n",
       "    <tr>\n",
       "      <th>2</th>\n",
       "      <td>2</td>\n",
       "      <td>2</td>\n",
       "      <td>0</td>\n",
       "      <td>2017-01-01 00:00:00</td>\n",
       "    </tr>\n",
       "    <tr>\n",
       "      <th>3</th>\n",
       "      <td>3</td>\n",
       "      <td>3</td>\n",
       "      <td>0</td>\n",
       "      <td>2017-01-01 00:00:00</td>\n",
       "    </tr>\n",
       "    <tr>\n",
       "      <th>4</th>\n",
       "      <td>4</td>\n",
       "      <td>4</td>\n",
       "      <td>0</td>\n",
       "      <td>2017-01-01 00:00:00</td>\n",
       "    </tr>\n",
       "    <tr>\n",
       "      <th>...</th>\n",
       "      <td>...</td>\n",
       "      <td>...</td>\n",
       "      <td>...</td>\n",
       "      <td>...</td>\n",
       "    </tr>\n",
       "    <tr>\n",
       "      <th>41697595</th>\n",
       "      <td>41697595</td>\n",
       "      <td>1444</td>\n",
       "      <td>0</td>\n",
       "      <td>2018-05-09 07:00:00</td>\n",
       "    </tr>\n",
       "    <tr>\n",
       "      <th>41697596</th>\n",
       "      <td>41697596</td>\n",
       "      <td>1445</td>\n",
       "      <td>0</td>\n",
       "      <td>2018-05-09 07:00:00</td>\n",
       "    </tr>\n",
       "    <tr>\n",
       "      <th>41697597</th>\n",
       "      <td>41697597</td>\n",
       "      <td>1446</td>\n",
       "      <td>0</td>\n",
       "      <td>2018-05-09 07:00:00</td>\n",
       "    </tr>\n",
       "    <tr>\n",
       "      <th>41697598</th>\n",
       "      <td>41697598</td>\n",
       "      <td>1447</td>\n",
       "      <td>0</td>\n",
       "      <td>2018-05-09 07:00:00</td>\n",
       "    </tr>\n",
       "    <tr>\n",
       "      <th>41697599</th>\n",
       "      <td>41697599</td>\n",
       "      <td>1448</td>\n",
       "      <td>0</td>\n",
       "      <td>2018-05-09 07:00:00</td>\n",
       "    </tr>\n",
       "  </tbody>\n",
       "</table>\n",
       "<p>41697600 rows × 4 columns</p>\n",
       "</div>"
      ],
      "text/plain": [
       "            row_id  building_id  meter            timestamp\n",
       "0                0            0      0  2017-01-01 00:00:00\n",
       "1                1            1      0  2017-01-01 00:00:00\n",
       "2                2            2      0  2017-01-01 00:00:00\n",
       "3                3            3      0  2017-01-01 00:00:00\n",
       "4                4            4      0  2017-01-01 00:00:00\n",
       "...            ...          ...    ...                  ...\n",
       "41697595  41697595         1444      0  2018-05-09 07:00:00\n",
       "41697596  41697596         1445      0  2018-05-09 07:00:00\n",
       "41697597  41697597         1446      0  2018-05-09 07:00:00\n",
       "41697598  41697598         1447      0  2018-05-09 07:00:00\n",
       "41697599  41697599         1448      0  2018-05-09 07:00:00\n",
       "\n",
       "[41697600 rows x 4 columns]"
      ]
     },
     "execution_count": 14,
     "metadata": {},
     "output_type": "execute_result"
    }
   ],
   "source": [
    "test_df"
   ]
  },
  {
   "cell_type": "markdown",
   "id": "07dcb8d2",
   "metadata": {
    "papermill": {
     "duration": 0.021066,
     "end_time": "2024-01-28T09:37:37.186157",
     "exception": false,
     "start_time": "2024-01-28T09:37:37.165091",
     "status": "completed"
    },
    "tags": []
   },
   "source": [
    "The training dataset consists of the same buildings, but from a different time period:"
   ]
  },
  {
   "cell_type": "code",
   "execution_count": 15,
   "id": "d29eb77b",
   "metadata": {
    "execution": {
     "iopub.execute_input": "2024-01-28T09:37:37.230357Z",
     "iopub.status.busy": "2024-01-28T09:37:37.229909Z",
     "iopub.status.idle": "2024-01-28T09:37:50.313917Z",
     "shell.execute_reply": "2024-01-28T09:37:50.312594Z"
    },
    "papermill": {
     "duration": 13.109154,
     "end_time": "2024-01-28T09:37:50.316509",
     "exception": false,
     "start_time": "2024-01-28T09:37:37.207355",
     "status": "completed"
    },
    "tags": []
   },
   "outputs": [
    {
     "data": {
      "text/plain": [
       "('2017-01-01 00:00:00', '2018-12-31 23:00:00')"
      ]
     },
     "execution_count": 15,
     "metadata": {},
     "output_type": "execute_result"
    }
   ],
   "source": [
    "test_df.timestamp.min(), test_df.timestamp.max()"
   ]
  },
  {
   "cell_type": "markdown",
   "id": "08498eaa",
   "metadata": {
    "papermill": {
     "duration": 0.020812,
     "end_time": "2024-01-28T09:37:50.358621",
     "exception": false,
     "start_time": "2024-01-28T09:37:50.337809",
     "status": "completed"
    },
    "tags": []
   },
   "source": [
    "# Exploratory Data Analysis"
   ]
  },
  {
   "cell_type": "markdown",
   "id": "fd90c79b",
   "metadata": {
    "papermill": {
     "duration": 0.020668,
     "end_time": "2024-01-28T09:37:50.400748",
     "exception": false,
     "start_time": "2024-01-28T09:37:50.380080",
     "status": "completed"
    },
    "tags": []
   },
   "source": [
    "Let's look at the number of missing (NaN) values for each column:"
   ]
  },
  {
   "cell_type": "code",
   "execution_count": 16,
   "id": "55784e1a",
   "metadata": {
    "_kg_hide-input": true,
    "execution": {
     "iopub.execute_input": "2024-01-28T09:37:50.444641Z",
     "iopub.status.busy": "2024-01-28T09:37:50.444210Z",
     "iopub.status.idle": "2024-01-28T09:38:03.030581Z",
     "shell.execute_reply": "2024-01-28T09:38:03.029661Z"
    },
    "papermill": {
     "duration": 12.611502,
     "end_time": "2024-01-28T09:38:03.033173",
     "exception": false,
     "start_time": "2024-01-28T09:37:50.421671",
     "status": "completed"
    },
    "tags": []
   },
   "outputs": [
    {
     "data": {
      "image/png": "[encoded data removed]",
      "text/plain": [
       "<Figure size 1400x600 with 1 Axes>"
      ]
     },
     "metadata": {},
     "output_type": "display_data"
    }
   ],
   "source": [
    "# Count how many available values (in %) there are for each column, except the target column\n",
    "train_data = (train_full.count() / len(train_full)).drop('meter_reading').sort_values().values\n",
    "ind = np.arange(len(train_data))\n",
    "width = 0.35\n",
    "\n",
    "fig, axes = plt.subplots(1,1,figsize=(14, 6), dpi=100)\n",
    "tr = axes.bar(ind, train_data, width, color='royalblue')\n",
    "\n",
    "test_data = (test_full.count() / len(test_full)).drop('row_id').sort_values().values\n",
    "tt = axes.bar(ind+width, test_data, width, color='seagreen')\n",
    "\n",
    "axes.set_ylabel('Amount of data available');\n",
    "axes.set_xticks(ind + width / 2)\n",
    "axes.set_xticklabels((train_full.count() / len(train_full)).drop('meter_reading').sort_values().index, rotation=40)\n",
    "axes.legend([tr, tt], ['Train', 'Test']);"
   ]
  },
  {
   "cell_type": "markdown",
   "id": "d53e974f",
   "metadata": {
    "papermill": {
     "duration": 0.022096,
     "end_time": "2024-01-28T09:38:03.078516",
     "exception": false,
     "start_time": "2024-01-28T09:38:03.056420",
     "status": "completed"
    },
    "tags": []
   },
   "source": [
    "We can see that there are little data available on the floor counts and the years of the buildings."
   ]
  },
  {
   "cell_type": "markdown",
   "id": "d24ee3e9",
   "metadata": {
    "papermill": {
     "duration": 0.022107,
     "end_time": "2024-01-28T09:38:03.123480",
     "exception": false,
     "start_time": "2024-01-28T09:38:03.101373",
     "status": "completed"
    },
    "tags": []
   },
   "source": [
    "Now let's include meter readings, plotting hour-of-observation vs. building_id, using different colors to indicate what kind of data was recorded at each hour (zero, non-zero, NaN):"
   ]
  },
  {
   "cell_type": "code",
   "execution_count": 17,
   "id": "c9de8924",
   "metadata": {
    "_kg_hide-input": true,
    "execution": {
     "iopub.execute_input": "2024-01-28T09:38:03.172172Z",
     "iopub.status.busy": "2024-01-28T09:38:03.170847Z",
     "iopub.status.idle": "2024-01-28T09:41:11.042801Z",
     "shell.execute_reply": "2024-01-28T09:41:11.041480Z"
    },
    "papermill": {
     "duration": 187.945022,
     "end_time": "2024-01-28T09:41:11.090932",
     "exception": false,
     "start_time": "2024-01-28T09:38:03.145910",
     "status": "completed"
    },
    "tags": []
   },
   "outputs": [
    {
     "data": {
      "image/png": "[encoded data removed]",
      "text/plain": [
       "<Figure size 2000x3000 with 4 Axes>"
      ]
     },
     "metadata": {},
     "output_type": "display_data"
    }
   ],
   "source": [
    "train = train.set_index(['timestamp'])\n",
    "buildings_count = len(train.building_id.unique())\n",
    "\n",
    "meters_count = len(train.meter.unique())\n",
    "meters = ['electricity', 'chilledwater', 'steam', 'hotwater']\n",
    "\n",
    "PLOT_MISSING_VALUES = True\n",
    "\n",
    "# Plot missing values per building/meter\n",
    "if PLOT_MISSING_VALUES:\n",
    "    f,a=plt.subplots(1,4,figsize=(20,30))\n",
    "    \n",
    "    for meter in np.arange(meters_count):\n",
    "        # group by the consumed energy type (meter)\n",
    "        df = train[train.meter==meter].copy().reset_index()\n",
    "        \n",
    "        # Convert from seconds to hours elapsed since the starting point of the dataset\n",
    "        df['timestamp'] = df['timestamp'] - df['timestamp'].min()\n",
    "        df['timestamp'] = df['timestamp'].dt.total_seconds() // 3600\n",
    "        \n",
    "        # Generate a matrix of missing and zero values\n",
    "        missmap = np.empty((buildings_count, int(df.timestamp.max())+1))\n",
    "        missmap.fill(np.nan)\n",
    "        \n",
    "        for l in df.values:\n",
    "            if l[2]!=meter:\n",
    "                continue\n",
    "            # l[1] is a building id, l[0] is an hour, l[3] is a meter reading\n",
    "            missmap[int(l[1]), int(l[0])] = 0 if l[3]==0 else 1\n",
    "            \n",
    "        a[meter].set_title(f'{meters[meter]}')\n",
    "        sns.heatmap(missmap, cmap='Paired', ax=a[meter], cbar=False)"
   ]
  },
  {
   "cell_type": "markdown",
   "id": "95ded74a",
   "metadata": {
    "papermill": {
     "duration": 0.026933,
     "end_time": "2024-01-28T09:41:11.148552",
     "exception": false,
     "start_time": "2024-01-28T09:41:11.121619",
     "status": "completed"
    },
    "tags": []
   },
   "source": [
    "**Legend:**\n",
    "\n",
    "* X axis: hours elapsed since Jan 1st 2016, for each of the 4 meter types\n",
    "* Y axis: building_id\n",
    "* Brown: meter reading available with non-zero value\n",
    "* Light blue: meter reading available with zero value\n",
    "* White: missing meter reading"
   ]
  },
  {
   "cell_type": "markdown",
   "id": "6c0ec14b",
   "metadata": {
    "papermill": {
     "duration": 0.02607,
     "end_time": "2024-01-28T09:41:11.201115",
     "exception": false,
     "start_time": "2024-01-28T09:41:11.175045",
     "status": "completed"
    },
    "tags": []
   },
   "source": [
    "**What we can conclude:**\n",
    "1. Not every building has all meter types.\n",
    "2. There are a bunch of NaN values which often go in contiguous time intervals for multiple buidings (white rectangles in the graph above).\n",
    "3. Vertical blue lines indicate that for a number of buildings, the meter readings were zero at specific time intervals."
   ]
  },
  {
   "cell_type": "markdown",
   "id": "b4bbd13a",
   "metadata": {
    "papermill": {
     "duration": 0.026358,
     "end_time": "2024-01-28T09:41:11.253863",
     "exception": false,
     "start_time": "2024-01-28T09:41:11.227505",
     "status": "completed"
    },
    "tags": []
   },
   "source": [
    "**Number of observations by day:**"
   ]
  },
  {
   "cell_type": "code",
   "execution_count": 18,
   "id": "17c5d497",
   "metadata": {
    "_kg_hide-input": true,
    "execution": {
     "iopub.execute_input": "2024-01-28T09:41:11.308906Z",
     "iopub.status.busy": "2024-01-28T09:41:11.308430Z",
     "iopub.status.idle": "2024-01-28T09:41:13.803309Z",
     "shell.execute_reply": "2024-01-28T09:41:13.802466Z"
    },
    "papermill": {
     "duration": 2.525847,
     "end_time": "2024-01-28T09:41:13.805942",
     "exception": false,
     "start_time": "2024-01-28T09:41:11.280095",
     "status": "completed"
    },
    "tags": []
   },
   "outputs": [
    {
     "data": {
      "image/png": "[encoded data removed]",
      "text/plain": [
       "<Figure size 1400x600 with 1 Axes>"
      ]
     },
     "metadata": {},
     "output_type": "display_data"
    }
   ],
   "source": [
    "fig, axes = plt.subplots(1, 1, figsize=(14, 6))\n",
    "# Floor the dates to the nearest day, then count repetitions (i.e. dates of the same day)\n",
    "train_full['timestamp'].dt.floor('d').value_counts().sort_index().plot(ax=axes).set_xlabel('Date', fontsize=14);\n",
    "test_full['timestamp'].dt.floor('d').value_counts().sort_index().plot(ax=axes).set_ylabel('Number of observations', fontsize=14);\n",
    "axes.set_title('Number of observations by day', fontsize=16);\n",
    "axes.legend(['Train', 'Test']);"
   ]
  },
  {
   "cell_type": "markdown",
   "id": "fba0bb0e",
   "metadata": {
    "papermill": {
     "duration": 0.027729,
     "end_time": "2024-01-28T09:41:13.862921",
     "exception": false,
     "start_time": "2024-01-28T09:41:13.835192",
     "status": "completed"
    },
    "tags": []
   },
   "source": [
    "This is something interesting. We can see that number of observations by day in testing dataset is always the same. But not in the training set."
   ]
  },
  {
   "cell_type": "code",
   "execution_count": 19,
   "id": "6cdb1810",
   "metadata": {
    "_kg_hide-input": true,
    "execution": {
     "iopub.execute_input": "2024-01-28T09:41:13.921540Z",
     "iopub.status.busy": "2024-01-28T09:41:13.920488Z",
     "iopub.status.idle": "2024-01-28T09:41:24.257311Z",
     "shell.execute_reply": "2024-01-28T09:41:24.256428Z"
    },
    "papermill": {
     "duration": 10.368771,
     "end_time": "2024-01-28T09:41:24.260119",
     "exception": false,
     "start_time": "2024-01-28T09:41:13.891348",
     "status": "completed"
    },
    "tags": []
   },
   "outputs": [
    {
     "data": {
      "image/png": "[encoded data removed]",
      "text/plain": [
       "<Figure size 1400x600 with 2 Axes>"
      ]
     },
     "metadata": {},
     "output_type": "display_data"
    }
   ],
   "source": [
    "train_data = train_full.copy()\n",
    "test_data = test_full.copy()\n",
    "\n",
    "train_data['hour'] = train_data['timestamp'].dt.hour\n",
    "test_data['hour'] = test_data['timestamp'].dt.hour\n",
    "\n",
    "# Calculate the number of values that have the same hour of the day in the dataset\n",
    "plot_data = train_data['hour'].value_counts(dropna=False, normalize=True).sort_index().values\n",
    "ind = np.arange(len(plot_data))\n",
    "width = 0.35\n",
    "\n",
    "fig, axes = plt.subplots(1,1,figsize=(14, 6), dpi=100)\n",
    "tr = axes.bar(ind, plot_data, width, color='royalblue')\n",
    "\n",
    "plot_data = test_data['hour'].value_counts(dropna=False, normalize=True).sort_index().values\n",
    "tt = axes.bar(ind+width, plot_data, width, color='seagreen')\n",
    "\n",
    "# Plot the number of observations of the same hour \n",
    "axes.set_ylabel('Normalized number of observations');\n",
    "axes.set_xlabel('Hour');\n",
    "axes.set_xticks(ind + width / 2)\n",
    "axes.set_xticklabels(train_data['hour'].value_counts().sort_index().index, rotation=0)\n",
    "axes2 = axes.twinx()\n",
    "\n",
    "# Plot the mean number of the meter reading in each hour\n",
    "mr = axes2.plot(ind, train_data[['hour', 'meter_reading']].groupby('hour')['meter_reading'].mean().sort_index().values, 'D-', color='tab:orange', label='Mean meter reading');\n",
    "axes2.grid(False);\n",
    "axes2.tick_params(axis='y', labelcolor='tab:orange');\n",
    "axes2.set_ylabel('Mean meter reading by hour', color='tab:orange');\n",
    "axes.legend([tr, tt], ['Train', 'Test'], facecolor='white');\n",
    "axes2.legend(loc=2, facecolor='white');"
   ]
  },
  {
   "cell_type": "markdown",
   "id": "7ede1cc3",
   "metadata": {
    "papermill": {
     "duration": 0.028579,
     "end_time": "2024-01-28T09:41:24.319113",
     "exception": false,
     "start_time": "2024-01-28T09:41:24.290534",
     "status": "completed"
    },
    "tags": []
   },
   "source": [
    "The train and test datasets appear to be pretty well balanced. Number of observations per hour is almost the same.\n",
    "\n",
    "Also we can see that energy consumption raises up during the day and lowers during the night hours."
   ]
  },
  {
   "cell_type": "markdown",
   "id": "a21f3ff3",
   "metadata": {
    "papermill": {
     "duration": 0.028206,
     "end_time": "2024-01-28T09:41:24.376409",
     "exception": false,
     "start_time": "2024-01-28T09:41:24.348203",
     "status": "completed"
    },
    "tags": []
   },
   "source": [
    "# Dealing with NaN values"
   ]
  },
  {
   "cell_type": "markdown",
   "id": "794f9326",
   "metadata": {
    "papermill": {
     "duration": 0.028281,
     "end_time": "2024-01-28T09:41:24.433369",
     "exception": false,
     "start_time": "2024-01-28T09:41:24.405088",
     "status": "completed"
    },
    "tags": []
   },
   "source": [
    "As we saw earlier, most of the available data comes from the 'meter 0' - electricity, so we'll focus on predicting only electricity from now on."
   ]
  },
  {
   "cell_type": "code",
   "execution_count": 20,
   "id": "1ea7f1d7",
   "metadata": {
    "execution": {
     "iopub.execute_input": "2024-01-28T09:41:24.494030Z",
     "iopub.status.busy": "2024-01-28T09:41:24.493556Z",
     "iopub.status.idle": "2024-01-28T09:41:26.486143Z",
     "shell.execute_reply": "2024-01-28T09:41:26.484974Z"
    },
    "papermill": {
     "duration": 2.02695,
     "end_time": "2024-01-28T09:41:26.489905",
     "exception": false,
     "start_time": "2024-01-28T09:41:24.462955",
     "status": "completed"
    },
    "tags": []
   },
   "outputs": [
    {
     "data": {
      "text/html": [
       "<div>\n",
       "<style scoped>\n",
       "    .dataframe tbody tr th:only-of-type {\n",
       "        vertical-align: middle;\n",
       "    }\n",
       "\n",
       "    .dataframe tbody tr th {\n",
       "        vertical-align: top;\n",
       "    }\n",
       "\n",
       "    .dataframe thead th {\n",
       "        text-align: right;\n",
       "    }\n",
       "</style>\n",
       "<table border=\"1\" class=\"dataframe\">\n",
       "  <thead>\n",
       "    <tr style=\"text-align: right;\">\n",
       "      <th></th>\n",
       "      <th>building_id</th>\n",
       "      <th>timestamp</th>\n",
       "      <th>meter_reading</th>\n",
       "      <th>site_id</th>\n",
       "      <th>primary_use</th>\n",
       "      <th>square_feet</th>\n",
       "      <th>year_built</th>\n",
       "      <th>floor_count</th>\n",
       "      <th>air_temperature</th>\n",
       "      <th>cloud_coverage</th>\n",
       "      <th>dew_temperature</th>\n",
       "      <th>precip_depth_1_hr</th>\n",
       "      <th>sea_level_pressure</th>\n",
       "      <th>wind_direction</th>\n",
       "      <th>wind_speed</th>\n",
       "    </tr>\n",
       "  </thead>\n",
       "  <tbody>\n",
       "    <tr>\n",
       "      <th>0</th>\n",
       "      <td>0</td>\n",
       "      <td>2016-01-01 00:00:00</td>\n",
       "      <td>0.000000</td>\n",
       "      <td>0</td>\n",
       "      <td>Education</td>\n",
       "      <td>7432</td>\n",
       "      <td>2008.0</td>\n",
       "      <td>NaN</td>\n",
       "      <td>25.000000</td>\n",
       "      <td>6.0</td>\n",
       "      <td>20.000000</td>\n",
       "      <td>NaN</td>\n",
       "      <td>1019.5</td>\n",
       "      <td>0.0</td>\n",
       "      <td>0.000000</td>\n",
       "    </tr>\n",
       "    <tr>\n",
       "      <th>1</th>\n",
       "      <td>1</td>\n",
       "      <td>2016-01-01 00:00:00</td>\n",
       "      <td>0.000000</td>\n",
       "      <td>0</td>\n",
       "      <td>Education</td>\n",
       "      <td>2720</td>\n",
       "      <td>2004.0</td>\n",
       "      <td>NaN</td>\n",
       "      <td>25.000000</td>\n",
       "      <td>6.0</td>\n",
       "      <td>20.000000</td>\n",
       "      <td>NaN</td>\n",
       "      <td>1019.5</td>\n",
       "      <td>0.0</td>\n",
       "      <td>0.000000</td>\n",
       "    </tr>\n",
       "    <tr>\n",
       "      <th>2</th>\n",
       "      <td>2</td>\n",
       "      <td>2016-01-01 00:00:00</td>\n",
       "      <td>0.000000</td>\n",
       "      <td>0</td>\n",
       "      <td>Education</td>\n",
       "      <td>5376</td>\n",
       "      <td>1991.0</td>\n",
       "      <td>NaN</td>\n",
       "      <td>25.000000</td>\n",
       "      <td>6.0</td>\n",
       "      <td>20.000000</td>\n",
       "      <td>NaN</td>\n",
       "      <td>1019.5</td>\n",
       "      <td>0.0</td>\n",
       "      <td>0.000000</td>\n",
       "    </tr>\n",
       "    <tr>\n",
       "      <th>3</th>\n",
       "      <td>3</td>\n",
       "      <td>2016-01-01 00:00:00</td>\n",
       "      <td>0.000000</td>\n",
       "      <td>0</td>\n",
       "      <td>Education</td>\n",
       "      <td>23685</td>\n",
       "      <td>2002.0</td>\n",
       "      <td>NaN</td>\n",
       "      <td>25.000000</td>\n",
       "      <td>6.0</td>\n",
       "      <td>20.000000</td>\n",
       "      <td>NaN</td>\n",
       "      <td>1019.5</td>\n",
       "      <td>0.0</td>\n",
       "      <td>0.000000</td>\n",
       "    </tr>\n",
       "    <tr>\n",
       "      <th>4</th>\n",
       "      <td>4</td>\n",
       "      <td>2016-01-01 00:00:00</td>\n",
       "      <td>0.000000</td>\n",
       "      <td>0</td>\n",
       "      <td>Education</td>\n",
       "      <td>116607</td>\n",
       "      <td>1975.0</td>\n",
       "      <td>NaN</td>\n",
       "      <td>25.000000</td>\n",
       "      <td>6.0</td>\n",
       "      <td>20.000000</td>\n",
       "      <td>NaN</td>\n",
       "      <td>1019.5</td>\n",
       "      <td>0.0</td>\n",
       "      <td>0.000000</td>\n",
       "    </tr>\n",
       "    <tr>\n",
       "      <th>...</th>\n",
       "      <td>...</td>\n",
       "      <td>...</td>\n",
       "      <td>...</td>\n",
       "      <td>...</td>\n",
       "      <td>...</td>\n",
       "      <td>...</td>\n",
       "      <td>...</td>\n",
       "      <td>...</td>\n",
       "      <td>...</td>\n",
       "      <td>...</td>\n",
       "      <td>...</td>\n",
       "      <td>...</td>\n",
       "      <td>...</td>\n",
       "      <td>...</td>\n",
       "      <td>...</td>\n",
       "    </tr>\n",
       "    <tr>\n",
       "      <th>20216095</th>\n",
       "      <td>1444</td>\n",
       "      <td>2016-12-31 23:00:00</td>\n",
       "      <td>8.750000</td>\n",
       "      <td>15</td>\n",
       "      <td>Entertainment/public assembly</td>\n",
       "      <td>19619</td>\n",
       "      <td>1914.0</td>\n",
       "      <td>NaN</td>\n",
       "      <td>1.700195</td>\n",
       "      <td>NaN</td>\n",
       "      <td>-5.601562</td>\n",
       "      <td>-1.0</td>\n",
       "      <td>1008.5</td>\n",
       "      <td>180.0</td>\n",
       "      <td>8.796875</td>\n",
       "    </tr>\n",
       "    <tr>\n",
       "      <th>20216096</th>\n",
       "      <td>1445</td>\n",
       "      <td>2016-12-31 23:00:00</td>\n",
       "      <td>4.825000</td>\n",
       "      <td>15</td>\n",
       "      <td>Education</td>\n",
       "      <td>4298</td>\n",
       "      <td>NaN</td>\n",
       "      <td>NaN</td>\n",
       "      <td>1.700195</td>\n",
       "      <td>NaN</td>\n",
       "      <td>-5.601562</td>\n",
       "      <td>-1.0</td>\n",
       "      <td>1008.5</td>\n",
       "      <td>180.0</td>\n",
       "      <td>8.796875</td>\n",
       "    </tr>\n",
       "    <tr>\n",
       "      <th>20216097</th>\n",
       "      <td>1446</td>\n",
       "      <td>2016-12-31 23:00:00</td>\n",
       "      <td>0.000000</td>\n",
       "      <td>15</td>\n",
       "      <td>Entertainment/public assembly</td>\n",
       "      <td>11265</td>\n",
       "      <td>1997.0</td>\n",
       "      <td>NaN</td>\n",
       "      <td>1.700195</td>\n",
       "      <td>NaN</td>\n",
       "      <td>-5.601562</td>\n",
       "      <td>-1.0</td>\n",
       "      <td>1008.5</td>\n",
       "      <td>180.0</td>\n",
       "      <td>8.796875</td>\n",
       "    </tr>\n",
       "    <tr>\n",
       "      <th>20216098</th>\n",
       "      <td>1447</td>\n",
       "      <td>2016-12-31 23:00:00</td>\n",
       "      <td>159.574997</td>\n",
       "      <td>15</td>\n",
       "      <td>Lodging/residential</td>\n",
       "      <td>29775</td>\n",
       "      <td>2001.0</td>\n",
       "      <td>NaN</td>\n",
       "      <td>1.700195</td>\n",
       "      <td>NaN</td>\n",
       "      <td>-5.601562</td>\n",
       "      <td>-1.0</td>\n",
       "      <td>1008.5</td>\n",
       "      <td>180.0</td>\n",
       "      <td>8.796875</td>\n",
       "    </tr>\n",
       "    <tr>\n",
       "      <th>20216099</th>\n",
       "      <td>1448</td>\n",
       "      <td>2016-12-31 23:00:00</td>\n",
       "      <td>2.850000</td>\n",
       "      <td>15</td>\n",
       "      <td>Office</td>\n",
       "      <td>92271</td>\n",
       "      <td>2001.0</td>\n",
       "      <td>NaN</td>\n",
       "      <td>1.700195</td>\n",
       "      <td>NaN</td>\n",
       "      <td>-5.601562</td>\n",
       "      <td>-1.0</td>\n",
       "      <td>1008.5</td>\n",
       "      <td>180.0</td>\n",
       "      <td>8.796875</td>\n",
       "    </tr>\n",
       "  </tbody>\n",
       "</table>\n",
       "<p>12060910 rows × 15 columns</p>\n",
       "</div>"
      ],
      "text/plain": [
       "          building_id           timestamp  meter_reading  site_id  \\\n",
       "0                   0 2016-01-01 00:00:00       0.000000        0   \n",
       "1                   1 2016-01-01 00:00:00       0.000000        0   \n",
       "2                   2 2016-01-01 00:00:00       0.000000        0   \n",
       "3                   3 2016-01-01 00:00:00       0.000000        0   \n",
       "4                   4 2016-01-01 00:00:00       0.000000        0   \n",
       "...               ...                 ...            ...      ...   \n",
       "20216095         1444 2016-12-31 23:00:00       8.750000       15   \n",
       "20216096         1445 2016-12-31 23:00:00       4.825000       15   \n",
       "20216097         1446 2016-12-31 23:00:00       0.000000       15   \n",
       "20216098         1447 2016-12-31 23:00:00     159.574997       15   \n",
       "20216099         1448 2016-12-31 23:00:00       2.850000       15   \n",
       "\n",
       "                            primary_use  square_feet  year_built  floor_count  \\\n",
       "0                             Education         7432      2008.0          NaN   \n",
       "1                             Education         2720      2004.0          NaN   \n",
       "2                             Education         5376      1991.0          NaN   \n",
       "3                             Education        23685      2002.0          NaN   \n",
       "4                             Education       116607      1975.0          NaN   \n",
       "...                                 ...          ...         ...          ...   \n",
       "20216095  Entertainment/public assembly        19619      1914.0          NaN   \n",
       "20216096                      Education         4298         NaN          NaN   \n",
       "20216097  Entertainment/public assembly        11265      1997.0          NaN   \n",
       "20216098            Lodging/residential        29775      2001.0          NaN   \n",
       "20216099                         Office        92271      2001.0          NaN   \n",
       "\n",
       "          air_temperature  cloud_coverage  dew_temperature  precip_depth_1_hr  \\\n",
       "0               25.000000             6.0        20.000000                NaN   \n",
       "1               25.000000             6.0        20.000000                NaN   \n",
       "2               25.000000             6.0        20.000000                NaN   \n",
       "3               25.000000             6.0        20.000000                NaN   \n",
       "4               25.000000             6.0        20.000000                NaN   \n",
       "...                   ...             ...              ...                ...   \n",
       "20216095         1.700195             NaN        -5.601562               -1.0   \n",
       "20216096         1.700195             NaN        -5.601562               -1.0   \n",
       "20216097         1.700195             NaN        -5.601562               -1.0   \n",
       "20216098         1.700195             NaN        -5.601562               -1.0   \n",
       "20216099         1.700195             NaN        -5.601562               -1.0   \n",
       "\n",
       "          sea_level_pressure  wind_direction  wind_speed  \n",
       "0                     1019.5             0.0    0.000000  \n",
       "1                     1019.5             0.0    0.000000  \n",
       "2                     1019.5             0.0    0.000000  \n",
       "3                     1019.5             0.0    0.000000  \n",
       "4                     1019.5             0.0    0.000000  \n",
       "...                      ...             ...         ...  \n",
       "20216095              1008.5           180.0    8.796875  \n",
       "20216096              1008.5           180.0    8.796875  \n",
       "20216097              1008.5           180.0    8.796875  \n",
       "20216098              1008.5           180.0    8.796875  \n",
       "20216099              1008.5           180.0    8.796875  \n",
       "\n",
       "[12060910 rows x 15 columns]"
      ]
     },
     "execution_count": 20,
     "metadata": {},
     "output_type": "execute_result"
    }
   ],
   "source": [
    "train = train_full[train_full.meter == 0]\n",
    "del train['meter']\n",
    "train"
   ]
  },
  {
   "cell_type": "markdown",
   "id": "0ff5f392",
   "metadata": {
    "papermill": {
     "duration": 0.028741,
     "end_time": "2024-01-28T09:41:26.548148",
     "exception": false,
     "start_time": "2024-01-28T09:41:26.519407",
     "status": "completed"
    },
    "tags": []
   },
   "source": [
    "Since the number of observations per day is not uniform as we saw earlier, we need to resample the dataset to a 1-hour frequency. However, some buildings have too little data to perform interpolation for resampling, so we'll need to discard them first."
   ]
  },
  {
   "cell_type": "code",
   "execution_count": 21,
   "id": "cdafdfed",
   "metadata": {
    "execution": {
     "iopub.execute_input": "2024-01-28T09:41:26.610548Z",
     "iopub.status.busy": "2024-01-28T09:41:26.609295Z",
     "iopub.status.idle": "2024-01-28T09:41:50.482147Z",
     "shell.execute_reply": "2024-01-28T09:41:50.480862Z"
    },
    "papermill": {
     "duration": 23.907686,
     "end_time": "2024-01-28T09:41:50.484994",
     "exception": false,
     "start_time": "2024-01-28T09:41:26.577308",
     "status": "completed"
    },
    "tags": []
   },
   "outputs": [
    {
     "name": "stdout",
     "output_type": "stream",
     "text": [
      "All buildings with electricity meter:  1413\n"
     ]
    }
   ],
   "source": [
    "unique_buildings = train.building_id.unique()\n",
    "\n",
    "# Extract time series data for each building from the dataset as a separate dataframe\n",
    "buildings_slices = [train[train['building_id'] == id].set_index('timestamp') \n",
    "                    for id in unique_buildings]\n",
    "print('All buildings with electricity meter: ', len(buildings_slices))"
   ]
  },
  {
   "cell_type": "code",
   "execution_count": 22,
   "id": "59721a7a",
   "metadata": {
    "execution": {
     "iopub.execute_input": "2024-01-28T09:41:50.546518Z",
     "iopub.status.busy": "2024-01-28T09:41:50.546021Z",
     "iopub.status.idle": "2024-01-28T09:41:50.609376Z",
     "shell.execute_reply": "2024-01-28T09:41:50.608100Z"
    },
    "papermill": {
     "duration": 0.097336,
     "end_time": "2024-01-28T09:41:50.612358",
     "exception": false,
     "start_time": "2024-01-28T09:41:50.515022",
     "status": "completed"
    },
    "tags": []
   },
   "outputs": [],
   "source": [
    "# Define a desired time range with uniform frequency of 1 hour\n",
    "desired_index = pd.date_range(start=train.timestamp.min(), \\\n",
    "                              end=train.timestamp.max(), freq='1H')"
   ]
  },
  {
   "cell_type": "code",
   "execution_count": 23,
   "id": "45b3ddd3",
   "metadata": {
    "execution": {
     "iopub.execute_input": "2024-01-28T09:41:50.674265Z",
     "iopub.status.busy": "2024-01-28T09:41:50.673859Z",
     "iopub.status.idle": "2024-01-28T09:42:44.511517Z",
     "shell.execute_reply": "2024-01-28T09:42:44.510270Z"
    },
    "papermill": {
     "duration": 53.87219,
     "end_time": "2024-01-28T09:42:44.514401",
     "exception": false,
     "start_time": "2024-01-28T09:41:50.642211",
     "status": "completed"
    },
    "tags": []
   },
   "outputs": [],
   "source": [
    "buildings_slices_resampled = []\n",
    "weather_train.set_index('timestamp', inplace=True) \n",
    "\n",
    "for slice_df in buildings_slices:\n",
    "    \"\"\"For each building time series:\n",
    "        1. Reindex based on the desired time range\n",
    "        2. Perform resampling (this will introduce NaNs for missing time periods)\n",
    "        3. Reindex back to the desired time range\n",
    "    \"\"\" \n",
    "    slice_resampled = slice_df.reindex(slice_df.index.union(desired_index)) \\\n",
    "                              .asfreq('1h') \\\n",
    "                              .reindex(desired_index)  \n",
    "    \n",
    "    # 4. Fill in the NaN values introduced by resampling\n",
    "    new_rows_mask = slice_resampled.isna().all(axis=1) # newly inserted rows have all values NaN\n",
    "    \n",
    "    # Pick a sample non-empty row that was originally in the dataset\n",
    "    original_sample_row = slice_df.iloc[0] \n",
    "        \n",
    "    # Fill in all the building_metadata for the new rows\n",
    "    slice_resampled.loc[new_rows_mask, 'building_id': 'floor_count'] = \\\n",
    "        original_sample_row.loc['building_id': 'floor_count'].values\n",
    "    \n",
    "    # Fill in all the weather data for the new rows\n",
    "    slice_resampled.update(weather_train[weather_train['site_id']==original_sample_row['site_id']])\n",
    "    \n",
    "    # Finish with assigning a NaN value to the meter_reading, in order to interpolate it later\n",
    "    slice_resampled.loc[new_rows_mask, 'meter_reading'] = np.nan\n",
    "    \n",
    "    buildings_slices_resampled.append(slice_resampled)"
   ]
  },
  {
   "cell_type": "code",
   "execution_count": 24,
   "id": "4cf2d84c",
   "metadata": {
    "_kg_hide-output": true,
    "execution": {
     "iopub.execute_input": "2024-01-28T09:42:44.574861Z",
     "iopub.status.busy": "2024-01-28T09:42:44.574395Z",
     "iopub.status.idle": "2024-01-28T09:42:46.396833Z",
     "shell.execute_reply": "2024-01-28T09:42:46.395534Z"
    },
    "papermill": {
     "duration": 1.855661,
     "end_time": "2024-01-28T09:42:46.399603",
     "exception": false,
     "start_time": "2024-01-28T09:42:44.543942",
     "status": "completed"
    },
    "tags": []
   },
   "outputs": [
    {
     "data": {
      "text/html": [
       "<div>\n",
       "<style scoped>\n",
       "    .dataframe tbody tr th:only-of-type {\n",
       "        vertical-align: middle;\n",
       "    }\n",
       "\n",
       "    .dataframe tbody tr th {\n",
       "        vertical-align: top;\n",
       "    }\n",
       "\n",
       "    .dataframe thead th {\n",
       "        text-align: right;\n",
       "    }\n",
       "</style>\n",
       "<table border=\"1\" class=\"dataframe\">\n",
       "  <thead>\n",
       "    <tr style=\"text-align: right;\">\n",
       "      <th></th>\n",
       "      <th>building_id</th>\n",
       "      <th>meter_reading</th>\n",
       "      <th>site_id</th>\n",
       "      <th>primary_use</th>\n",
       "      <th>square_feet</th>\n",
       "      <th>year_built</th>\n",
       "      <th>floor_count</th>\n",
       "      <th>air_temperature</th>\n",
       "      <th>cloud_coverage</th>\n",
       "      <th>dew_temperature</th>\n",
       "      <th>precip_depth_1_hr</th>\n",
       "      <th>sea_level_pressure</th>\n",
       "      <th>wind_direction</th>\n",
       "      <th>wind_speed</th>\n",
       "    </tr>\n",
       "  </thead>\n",
       "  <tbody>\n",
       "    <tr>\n",
       "      <th>2016-01-01 00:00:00</th>\n",
       "      <td>0.0</td>\n",
       "      <td>0.000000</td>\n",
       "      <td>0.0</td>\n",
       "      <td>Education</td>\n",
       "      <td>7432.0</td>\n",
       "      <td>2008.0</td>\n",
       "      <td>NaN</td>\n",
       "      <td>25.000000</td>\n",
       "      <td>6.0</td>\n",
       "      <td>20.000000</td>\n",
       "      <td>NaN</td>\n",
       "      <td>1019.5</td>\n",
       "      <td>0.0</td>\n",
       "      <td>0.000000</td>\n",
       "    </tr>\n",
       "    <tr>\n",
       "      <th>2016-01-01 01:00:00</th>\n",
       "      <td>0.0</td>\n",
       "      <td>0.000000</td>\n",
       "      <td>0.0</td>\n",
       "      <td>Education</td>\n",
       "      <td>7432.0</td>\n",
       "      <td>2008.0</td>\n",
       "      <td>NaN</td>\n",
       "      <td>24.406250</td>\n",
       "      <td>NaN</td>\n",
       "      <td>21.093750</td>\n",
       "      <td>-1.0</td>\n",
       "      <td>1020.0</td>\n",
       "      <td>70.0</td>\n",
       "      <td>1.500000</td>\n",
       "    </tr>\n",
       "    <tr>\n",
       "      <th>2016-01-01 02:00:00</th>\n",
       "      <td>0.0</td>\n",
       "      <td>0.000000</td>\n",
       "      <td>0.0</td>\n",
       "      <td>Education</td>\n",
       "      <td>7432.0</td>\n",
       "      <td>2008.0</td>\n",
       "      <td>NaN</td>\n",
       "      <td>22.796875</td>\n",
       "      <td>2.0</td>\n",
       "      <td>21.093750</td>\n",
       "      <td>0.0</td>\n",
       "      <td>1020.0</td>\n",
       "      <td>0.0</td>\n",
       "      <td>0.000000</td>\n",
       "    </tr>\n",
       "    <tr>\n",
       "      <th>2016-01-01 03:00:00</th>\n",
       "      <td>0.0</td>\n",
       "      <td>0.000000</td>\n",
       "      <td>0.0</td>\n",
       "      <td>Education</td>\n",
       "      <td>7432.0</td>\n",
       "      <td>2008.0</td>\n",
       "      <td>NaN</td>\n",
       "      <td>21.093750</td>\n",
       "      <td>2.0</td>\n",
       "      <td>20.593750</td>\n",
       "      <td>0.0</td>\n",
       "      <td>1020.0</td>\n",
       "      <td>0.0</td>\n",
       "      <td>0.000000</td>\n",
       "    </tr>\n",
       "    <tr>\n",
       "      <th>2016-01-01 04:00:00</th>\n",
       "      <td>0.0</td>\n",
       "      <td>0.000000</td>\n",
       "      <td>0.0</td>\n",
       "      <td>Education</td>\n",
       "      <td>7432.0</td>\n",
       "      <td>2008.0</td>\n",
       "      <td>NaN</td>\n",
       "      <td>20.000000</td>\n",
       "      <td>2.0</td>\n",
       "      <td>20.000000</td>\n",
       "      <td>-1.0</td>\n",
       "      <td>1020.0</td>\n",
       "      <td>250.0</td>\n",
       "      <td>2.599609</td>\n",
       "    </tr>\n",
       "    <tr>\n",
       "      <th>...</th>\n",
       "      <td>...</td>\n",
       "      <td>...</td>\n",
       "      <td>...</td>\n",
       "      <td>...</td>\n",
       "      <td>...</td>\n",
       "      <td>...</td>\n",
       "      <td>...</td>\n",
       "      <td>...</td>\n",
       "      <td>...</td>\n",
       "      <td>...</td>\n",
       "      <td>...</td>\n",
       "      <td>...</td>\n",
       "      <td>...</td>\n",
       "      <td>...</td>\n",
       "    </tr>\n",
       "    <tr>\n",
       "      <th>2016-12-31 19:00:00</th>\n",
       "      <td>403.0</td>\n",
       "      <td>43.660000</td>\n",
       "      <td>3.0</td>\n",
       "      <td>Education</td>\n",
       "      <td>49500.0</td>\n",
       "      <td>1962.0</td>\n",
       "      <td>NaN</td>\n",
       "      <td>9.398438</td>\n",
       "      <td>NaN</td>\n",
       "      <td>-6.699219</td>\n",
       "      <td>0.0</td>\n",
       "      <td>1016.5</td>\n",
       "      <td>200.0</td>\n",
       "      <td>11.796875</td>\n",
       "    </tr>\n",
       "    <tr>\n",
       "      <th>2016-12-31 20:00:00</th>\n",
       "      <td>403.0</td>\n",
       "      <td>43.639999</td>\n",
       "      <td>3.0</td>\n",
       "      <td>Education</td>\n",
       "      <td>49500.0</td>\n",
       "      <td>1962.0</td>\n",
       "      <td>NaN</td>\n",
       "      <td>8.898438</td>\n",
       "      <td>NaN</td>\n",
       "      <td>-6.101562</td>\n",
       "      <td>0.0</td>\n",
       "      <td>1016.5</td>\n",
       "      <td>200.0</td>\n",
       "      <td>8.203125</td>\n",
       "    </tr>\n",
       "    <tr>\n",
       "      <th>2016-12-31 21:00:00</th>\n",
       "      <td>403.0</td>\n",
       "      <td>43.889999</td>\n",
       "      <td>3.0</td>\n",
       "      <td>Education</td>\n",
       "      <td>49500.0</td>\n",
       "      <td>1962.0</td>\n",
       "      <td>NaN</td>\n",
       "      <td>8.898438</td>\n",
       "      <td>6.0</td>\n",
       "      <td>-6.101562</td>\n",
       "      <td>0.0</td>\n",
       "      <td>1015.5</td>\n",
       "      <td>190.0</td>\n",
       "      <td>7.699219</td>\n",
       "    </tr>\n",
       "    <tr>\n",
       "      <th>2016-12-31 22:00:00</th>\n",
       "      <td>403.0</td>\n",
       "      <td>44.369999</td>\n",
       "      <td>3.0</td>\n",
       "      <td>Education</td>\n",
       "      <td>49500.0</td>\n",
       "      <td>1962.0</td>\n",
       "      <td>NaN</td>\n",
       "      <td>8.898438</td>\n",
       "      <td>NaN</td>\n",
       "      <td>-6.101562</td>\n",
       "      <td>0.0</td>\n",
       "      <td>1015.5</td>\n",
       "      <td>200.0</td>\n",
       "      <td>8.203125</td>\n",
       "    </tr>\n",
       "    <tr>\n",
       "      <th>2016-12-31 23:00:00</th>\n",
       "      <td>403.0</td>\n",
       "      <td>43.709999</td>\n",
       "      <td>3.0</td>\n",
       "      <td>Education</td>\n",
       "      <td>49500.0</td>\n",
       "      <td>1962.0</td>\n",
       "      <td>NaN</td>\n",
       "      <td>8.898438</td>\n",
       "      <td>NaN</td>\n",
       "      <td>-5.601562</td>\n",
       "      <td>0.0</td>\n",
       "      <td>1015.5</td>\n",
       "      <td>200.0</td>\n",
       "      <td>6.199219</td>\n",
       "    </tr>\n",
       "  </tbody>\n",
       "</table>\n",
       "<p>12411792 rows × 14 columns</p>\n",
       "</div>"
      ],
      "text/plain": [
       "                     building_id  meter_reading  site_id primary_use  \\\n",
       "2016-01-01 00:00:00          0.0       0.000000      0.0   Education   \n",
       "2016-01-01 01:00:00          0.0       0.000000      0.0   Education   \n",
       "2016-01-01 02:00:00          0.0       0.000000      0.0   Education   \n",
       "2016-01-01 03:00:00          0.0       0.000000      0.0   Education   \n",
       "2016-01-01 04:00:00          0.0       0.000000      0.0   Education   \n",
       "...                          ...            ...      ...         ...   \n",
       "2016-12-31 19:00:00        403.0      43.660000      3.0   Education   \n",
       "2016-12-31 20:00:00        403.0      43.639999      3.0   Education   \n",
       "2016-12-31 21:00:00        403.0      43.889999      3.0   Education   \n",
       "2016-12-31 22:00:00        403.0      44.369999      3.0   Education   \n",
       "2016-12-31 23:00:00        403.0      43.709999      3.0   Education   \n",
       "\n",
       "                     square_feet  year_built  floor_count  air_temperature  \\\n",
       "2016-01-01 00:00:00       7432.0      2008.0          NaN        25.000000   \n",
       "2016-01-01 01:00:00       7432.0      2008.0          NaN        24.406250   \n",
       "2016-01-01 02:00:00       7432.0      2008.0          NaN        22.796875   \n",
       "2016-01-01 03:00:00       7432.0      2008.0          NaN        21.093750   \n",
       "2016-01-01 04:00:00       7432.0      2008.0          NaN        20.000000   \n",
       "...                          ...         ...          ...              ...   \n",
       "2016-12-31 19:00:00      49500.0      1962.0          NaN         9.398438   \n",
       "2016-12-31 20:00:00      49500.0      1962.0          NaN         8.898438   \n",
       "2016-12-31 21:00:00      49500.0      1962.0          NaN         8.898438   \n",
       "2016-12-31 22:00:00      49500.0      1962.0          NaN         8.898438   \n",
       "2016-12-31 23:00:00      49500.0      1962.0          NaN         8.898438   \n",
       "\n",
       "                     cloud_coverage  dew_temperature  precip_depth_1_hr  \\\n",
       "2016-01-01 00:00:00             6.0        20.000000                NaN   \n",
       "2016-01-01 01:00:00             NaN        21.093750               -1.0   \n",
       "2016-01-01 02:00:00             2.0        21.093750                0.0   \n",
       "2016-01-01 03:00:00             2.0        20.593750                0.0   \n",
       "2016-01-01 04:00:00             2.0        20.000000               -1.0   \n",
       "...                             ...              ...                ...   \n",
       "2016-12-31 19:00:00             NaN        -6.699219                0.0   \n",
       "2016-12-31 20:00:00             NaN        -6.101562                0.0   \n",
       "2016-12-31 21:00:00             6.0        -6.101562                0.0   \n",
       "2016-12-31 22:00:00             NaN        -6.101562                0.0   \n",
       "2016-12-31 23:00:00             NaN        -5.601562                0.0   \n",
       "\n",
       "                     sea_level_pressure  wind_direction  wind_speed  \n",
       "2016-01-01 00:00:00              1019.5             0.0    0.000000  \n",
       "2016-01-01 01:00:00              1020.0            70.0    1.500000  \n",
       "2016-01-01 02:00:00              1020.0             0.0    0.000000  \n",
       "2016-01-01 03:00:00              1020.0             0.0    0.000000  \n",
       "2016-01-01 04:00:00              1020.0           250.0    2.599609  \n",
       "...                                 ...             ...         ...  \n",
       "2016-12-31 19:00:00              1016.5           200.0   11.796875  \n",
       "2016-12-31 20:00:00              1016.5           200.0    8.203125  \n",
       "2016-12-31 21:00:00              1015.5           190.0    7.699219  \n",
       "2016-12-31 22:00:00              1015.5           200.0    8.203125  \n",
       "2016-12-31 23:00:00              1015.5           200.0    6.199219  \n",
       "\n",
       "[12411792 rows x 14 columns]"
      ]
     },
     "execution_count": 24,
     "metadata": {},
     "output_type": "execute_result"
    }
   ],
   "source": [
    "train_r = pd.concat(buildings_slices_resampled)\n",
    "train_r"
   ]
  },
  {
   "cell_type": "markdown",
   "id": "4a302d06",
   "metadata": {
    "papermill": {
     "duration": 0.029745,
     "end_time": "2024-01-28T09:42:46.459613",
     "exception": false,
     "start_time": "2024-01-28T09:42:46.429868",
     "status": "completed"
    },
    "tags": []
   },
   "source": [
    "Now verify that the sampling rate is uniform:"
   ]
  },
  {
   "cell_type": "code",
   "execution_count": 25,
   "id": "f181aaea",
   "metadata": {
    "_kg_hide-input": true,
    "execution": {
     "iopub.execute_input": "2024-01-28T09:42:46.522384Z",
     "iopub.status.busy": "2024-01-28T09:42:46.521919Z",
     "iopub.status.idle": "2024-01-28T09:42:47.476489Z",
     "shell.execute_reply": "2024-01-28T09:42:47.475229Z"
    },
    "papermill": {
     "duration": 0.988909,
     "end_time": "2024-01-28T09:42:47.479039",
     "exception": false,
     "start_time": "2024-01-28T09:42:46.490130",
     "status": "completed"
    },
    "tags": []
   },
   "outputs": [
    {
     "data": {
      "image/png": "[encoded data removed]",
      "text/plain": [
       "<Figure size 1400x600 with 1 Axes>"
      ]
     },
     "metadata": {},
     "output_type": "display_data"
    }
   ],
   "source": [
    "fig, axes = plt.subplots(1, 1, figsize=(14, 6))\n",
    "\n",
    "train_r.index.floor('d').value_counts().sort_index()\\\n",
    ".plot(ax=axes).set_xlabel('Date', fontsize=14)\n",
    "\n",
    "axes.set_title('Number of observations by day', fontsize=16);"
   ]
  },
  {
   "cell_type": "code",
   "execution_count": 26,
   "id": "c1a99174",
   "metadata": {
    "execution": {
     "iopub.execute_input": "2024-01-28T09:42:47.542513Z",
     "iopub.status.busy": "2024-01-28T09:42:47.542088Z",
     "iopub.status.idle": "2024-01-28T09:42:48.853883Z",
     "shell.execute_reply": "2024-01-28T09:42:48.852967Z"
    },
    "papermill": {
     "duration": 1.346507,
     "end_time": "2024-01-28T09:42:48.856365",
     "exception": false,
     "start_time": "2024-01-28T09:42:47.509858",
     "status": "completed"
    },
    "tags": []
   },
   "outputs": [
    {
     "data": {
      "text/plain": [
       "<Axes: ylabel='Frequency'>"
      ]
     },
     "execution_count": 26,
     "metadata": {},
     "output_type": "execute_result"
    },
    {
     "data": {
      "image/png": "[encoded data removed]",
      "text/plain": [
       "<Figure size 640x480 with 1 Axes>"
      ]
     },
     "metadata": {},
     "output_type": "display_data"
    }
   ],
   "source": [
    "# Plot a histogram of the missing values rate after resampling\n",
    "\n",
    "n = len(desired_index)\n",
    "building_nans = train_r.groupby('building_id')['meter_reading'].apply(lambda x: x.isna().sum() / n)\n",
    "building_nans.plot(kind='hist', weights=np.ones_like(building_nans) / len(building_nans))"
   ]
  },
  {
   "cell_type": "markdown",
   "id": "cc5343af",
   "metadata": {
    "papermill": {
     "duration": 0.030266,
     "end_time": "2024-01-28T09:42:48.917616",
     "exception": false,
     "start_time": "2024-01-28T09:42:48.887350",
     "status": "completed"
    },
    "tags": []
   },
   "source": [
    "Discard all the buildings, who have more than **NANS_THRESHOLD** % of NaN values:"
   ]
  },
  {
   "cell_type": "code",
   "execution_count": 27,
   "id": "803b245d",
   "metadata": {
    "execution": {
     "iopub.execute_input": "2024-01-28T09:42:48.983838Z",
     "iopub.status.busy": "2024-01-28T09:42:48.983145Z",
     "iopub.status.idle": "2024-01-28T09:42:50.212970Z",
     "shell.execute_reply": "2024-01-28T09:42:50.211629Z"
    },
    "papermill": {
     "duration": 1.265361,
     "end_time": "2024-01-28T09:42:50.215605",
     "exception": false,
     "start_time": "2024-01-28T09:42:48.950244",
     "status": "completed"
    },
    "tags": []
   },
   "outputs": [
    {
     "data": {
      "text/plain": [
       "building_id                 0\n",
       "meter_reading               0\n",
       "site_id                     0\n",
       "primary_use                 0\n",
       "square_feet                 0\n",
       "year_built            1739232\n",
       "floor_count           2441952\n",
       "air_temperature          5694\n",
       "cloud_coverage        1911529\n",
       "dew_temperature          5719\n",
       "precip_depth_1_hr     1391629\n",
       "sea_level_pressure     815332\n",
       "wind_direction          98648\n",
       "wind_speed               7316\n",
       "dtype: int64"
      ]
     },
     "execution_count": 27,
     "metadata": {},
     "output_type": "execute_result"
    }
   ],
   "source": [
    "NANS_THRESHOLD = 0\n",
    "\n",
    "buildings_to_discard = (building_nans[building_nans > NANS_THRESHOLD]).index\n",
    "\n",
    "# First resampled, now reduced\n",
    "train_rr = train_r[~train_r['building_id'].isin(buildings_to_discard)]\n",
    "train_rr.isna().sum()\n",
    "# Plot the number of NaNs in each column"
   ]
  },
  {
   "cell_type": "code",
   "execution_count": 28,
   "id": "680a9062",
   "metadata": {
    "execution": {
     "iopub.execute_input": "2024-01-28T09:42:50.281530Z",
     "iopub.status.busy": "2024-01-28T09:42:50.281120Z",
     "iopub.status.idle": "2024-01-28T09:42:51.127178Z",
     "shell.execute_reply": "2024-01-28T09:42:51.125821Z"
    },
    "papermill": {
     "duration": 0.882401,
     "end_time": "2024-01-28T09:42:51.129959",
     "exception": false,
     "start_time": "2024-01-28T09:42:50.247558",
     "status": "completed"
    },
    "tags": []
   },
   "outputs": [
    {
     "data": {
      "text/plain": [
       "building_id                 0\n",
       "meter_reading               0\n",
       "site_id                     0\n",
       "primary_use                 0\n",
       "square_feet                 0\n",
       "air_temperature          5694\n",
       "cloud_coverage        1911529\n",
       "dew_temperature          5719\n",
       "precip_depth_1_hr     1391629\n",
       "sea_level_pressure     815332\n",
       "wind_direction          98648\n",
       "wind_speed               7316\n",
       "dtype: int64"
      ]
     },
     "execution_count": 28,
     "metadata": {},
     "output_type": "execute_result"
    }
   ],
   "source": [
    "fill_metanans_strategy = 'DROP' # 'VIRTUAL', 'MEDIAN'\n",
    "\"\"\"Fill in the stationary metabuilding NaN columns according to 3 strategies:\n",
    "    1. MEDIAN: impute the NaN values with median values of the year_built and floor_count columns\n",
    "    2. VIRTUAL: method based on the idea that the absence of the metabuilding info can actually reveal\n",
    "    something about the building (e.g. that the building is old). In this case, we impute all the NaN\n",
    "    values with 'virtual' stationary negative value, like -103 (the choice of a value doesn't matter here)\n",
    "    3. DROP: drop the year_built and floor_count columns\n",
    "\"\"\"\n",
    "\n",
    "if fill_metanans_strategy=='VIRTUAL':\n",
    "    train_rr['floor_count'] = train_rr['floor_count'].fillna(-103)\n",
    "    train_rr['year_built'] = train_rr['year_built'].fillna(-103)\n",
    "elif fill_metanans_strategy == 'MEDIAN':\n",
    "    nans_mask = train_rr.isna()\n",
    "    \n",
    "    floor_nans = nans_mask['floor_count']\n",
    "    year_nans = nans_mask['year_built']\n",
    "    \n",
    "    train_rr.loc[floor_nans, 'floor_count'] = train_rr['floor_count'].median(skipna=True)\n",
    "    train_rr.loc[year_nans, 'year_built'] = train_rr['year_built'].median(skipna=True)\n",
    "elif fill_metanans_strategy == 'DROP':\n",
    "    train_rr = train_rr.drop(columns=['year_built', 'floor_count'])\n",
    "else:\n",
    "    print('Unsupported strategy.')\n",
    "    \n",
    "train_rr.isna().sum()"
   ]
  },
  {
   "cell_type": "markdown",
   "id": "683b6372",
   "metadata": {
    "papermill": {
     "duration": 0.032023,
     "end_time": "2024-01-28T09:42:51.195230",
     "exception": false,
     "start_time": "2024-01-28T09:42:51.163207",
     "status": "completed"
    },
    "tags": []
   },
   "source": [
    "# Interpolating resampled time series"
   ]
  },
  {
   "cell_type": "markdown",
   "id": "e95d269a",
   "metadata": {
    "papermill": {
     "duration": 0.030998,
     "end_time": "2024-01-28T09:42:51.257440",
     "exception": false,
     "start_time": "2024-01-28T09:42:51.226442",
     "status": "completed"
    },
    "tags": []
   },
   "source": [
    "Finally, let's use interpolation to fill in the remaining NaNs:"
   ]
  },
  {
   "cell_type": "code",
   "execution_count": 29,
   "id": "5d92e4e7",
   "metadata": {
    "execution": {
     "iopub.execute_input": "2024-01-28T09:42:51.323107Z",
     "iopub.status.busy": "2024-01-28T09:42:51.322422Z",
     "iopub.status.idle": "2024-01-28T09:42:51.327686Z",
     "shell.execute_reply": "2024-01-28T09:42:51.326819Z"
    },
    "papermill": {
     "duration": 0.041433,
     "end_time": "2024-01-28T09:42:51.330086",
     "exception": false,
     "start_time": "2024-01-28T09:42:51.288653",
     "status": "completed"
    },
    "tags": []
   },
   "outputs": [],
   "source": [
    "interp_method = 'linear'"
   ]
  },
  {
   "cell_type": "code",
   "execution_count": 30,
   "id": "02d32288",
   "metadata": {
    "execution": {
     "iopub.execute_input": "2024-01-28T09:42:51.414846Z",
     "iopub.status.busy": "2024-01-28T09:42:51.413822Z",
     "iopub.status.idle": "2024-01-28T09:42:58.115175Z",
     "shell.execute_reply": "2024-01-28T09:42:58.113970Z"
    },
    "papermill": {
     "duration": 6.75069,
     "end_time": "2024-01-28T09:42:58.118013",
     "exception": false,
     "start_time": "2024-01-28T09:42:51.367323",
     "status": "completed"
    },
    "tags": []
   },
   "outputs": [
    {
     "data": {
      "text/plain": [
       "building_id           0\n",
       "meter_reading         0\n",
       "site_id               0\n",
       "primary_use           0\n",
       "square_feet           0\n",
       "air_temperature       0\n",
       "cloud_coverage        0\n",
       "dew_temperature       0\n",
       "precip_depth_1_hr     0\n",
       "sea_level_pressure    0\n",
       "wind_direction        0\n",
       "wind_speed            0\n",
       "dtype: int64"
      ]
     },
     "execution_count": 30,
     "metadata": {},
     "output_type": "execute_result"
    }
   ],
   "source": [
    "unique_buildings = train_rr.building_id.unique()\n",
    "features_to_fill = [ 'meter_reading',\n",
    "                     'air_temperature',       \n",
    "                     'cloud_coverage',       \n",
    "                     'dew_temperature',       \n",
    "                     'precip_depth_1_hr',    \n",
    "                     'sea_level_pressure',   \n",
    "                     'wind_direction',        \n",
    "                     'wind_speed',  ] \n",
    "\n",
    "building_slices = [train_rr[train_rr['building_id'] == id]\n",
    "                    for id in unique_buildings]\n",
    "\n",
    "train_rri = pd.concat([slice.interpolate(method=interp_method, axis='index', extrapolate=True)\n",
    "                       for slice in building_slices])\n",
    "\n",
    "# After interpolation, there are still some NaNs left outside the interpolation bounds.\n",
    "# We'll fill them with the median values\n",
    "\n",
    "nans_mask = train_rri.isna()\n",
    "for f in features_to_fill:\n",
    "    feature_nans = nans_mask[f]\n",
    "\n",
    "    # Check if there are NaN values before filling\n",
    "    if feature_nans.any():\n",
    "        # Calculate and fill the median for the feature\n",
    "        median_value = train_rri[f].median(skipna=True)\n",
    "        train_rri.loc[feature_nans, f] = median_value\n",
    "\n",
    "# Check if there are still NaN values\n",
    "train_rri.isna().sum()"
   ]
  },
  {
   "cell_type": "code",
   "execution_count": 31,
   "id": "dd6e0f75",
   "metadata": {
    "execution": {
     "iopub.execute_input": "2024-01-28T09:42:58.185688Z",
     "iopub.status.busy": "2024-01-28T09:42:58.184530Z",
     "iopub.status.idle": "2024-01-28T09:42:58.343160Z",
     "shell.execute_reply": "2024-01-28T09:42:58.341953Z"
    },
    "papermill": {
     "duration": 0.194964,
     "end_time": "2024-01-28T09:42:58.345936",
     "exception": false,
     "start_time": "2024-01-28T09:42:58.150972",
     "status": "completed"
    },
    "tags": []
   },
   "outputs": [
    {
     "name": "stdout",
     "output_type": "stream",
     "text": [
      "42 buildings left in the dataset.\n"
     ]
    }
   ],
   "source": [
    "from numpy.random import choice, seed\n",
    "seed(42)\n",
    "\n",
    "\"\"\" Optionally drop a portion of the buildings left (to save computational time later)\n",
    "    If BUILDINGS_DROP_VALUE is less than 1, it specifies a fraction of the buildings to drop (e.g. 0.5)\n",
    "    If BUILDINGS_DROP_VALUE is bigger (or equal) than 1, it specifices the absolute value of the buildings to leave in the dataset (e.g. 1, 10, ...)\"\"\"\n",
    "\n",
    "BUILDINGS_DROP_VALUE = 0.9\n",
    "\n",
    "new_buildings = train_rri.building_id.unique()\n",
    "new_buildings_count = len(new_buildings)\n",
    "\n",
    "if BUILDINGS_DROP_VALUE < 1: # drop a fraction of the buildings left\n",
    "    buildings_drop_count = int(np.ceil(new_buildings_count * BUILDINGS_DROP_VALUE))\n",
    "    \n",
    "    buildings_to_drop = choice(new_buildings, buildings_drop_count, replace = False)\n",
    "else: # leave only BUILDINGS_DROP_VALUE buildings\n",
    "    assert BUILDINGS_DROP_VALUE < new_buildings_count\n",
    "    \n",
    "    buildings_drop_count = new_buildings_count - BUILDINGS_DROP_VALUE\n",
    "    buildings_to_drop = choice(new_buildings, buildings_drop_count, replace = False)\n",
    "\n",
    "train_rri = train_rri[~train_rri['building_id'].isin(buildings_to_drop)]\n",
    "print(f'{len(train_rri.building_id.unique())} buildings left in the dataset.')"
   ]
  },
  {
   "cell_type": "code",
   "execution_count": 32,
   "id": "c5018a5d",
   "metadata": {
    "execution": {
     "iopub.execute_input": "2024-01-28T09:42:58.412843Z",
     "iopub.status.busy": "2024-01-28T09:42:58.412381Z",
     "iopub.status.idle": "2024-01-28T09:42:58.446089Z",
     "shell.execute_reply": "2024-01-28T09:42:58.444682Z"
    },
    "papermill": {
     "duration": 0.069821,
     "end_time": "2024-01-28T09:42:58.448692",
     "exception": false,
     "start_time": "2024-01-28T09:42:58.378871",
     "status": "completed"
    },
    "tags": []
   },
   "outputs": [
    {
     "data": {
      "text/html": [
       "<div>\n",
       "<style scoped>\n",
       "    .dataframe tbody tr th:only-of-type {\n",
       "        vertical-align: middle;\n",
       "    }\n",
       "\n",
       "    .dataframe tbody tr th {\n",
       "        vertical-align: top;\n",
       "    }\n",
       "\n",
       "    .dataframe thead th {\n",
       "        text-align: right;\n",
       "    }\n",
       "</style>\n",
       "<table border=\"1\" class=\"dataframe\">\n",
       "  <thead>\n",
       "    <tr style=\"text-align: right;\">\n",
       "      <th></th>\n",
       "      <th>building_id</th>\n",
       "      <th>meter_reading</th>\n",
       "      <th>site_id</th>\n",
       "      <th>primary_use</th>\n",
       "      <th>square_feet</th>\n",
       "      <th>air_temperature</th>\n",
       "      <th>cloud_coverage</th>\n",
       "      <th>dew_temperature</th>\n",
       "      <th>precip_depth_1_hr</th>\n",
       "      <th>sea_level_pressure</th>\n",
       "      <th>wind_direction</th>\n",
       "      <th>wind_speed</th>\n",
       "    </tr>\n",
       "  </thead>\n",
       "  <tbody>\n",
       "    <tr>\n",
       "      <th>2016-01-01 00:00:00</th>\n",
       "      <td>20.0</td>\n",
       "      <td>0.000000</td>\n",
       "      <td>0.0</td>\n",
       "      <td>Education</td>\n",
       "      <td>110272.0</td>\n",
       "      <td>25.000000</td>\n",
       "      <td>6.0</td>\n",
       "      <td>20.000000</td>\n",
       "      <td>0.0</td>\n",
       "      <td>1019.5</td>\n",
       "      <td>0.0</td>\n",
       "      <td>0.000000</td>\n",
       "    </tr>\n",
       "    <tr>\n",
       "      <th>2016-01-01 01:00:00</th>\n",
       "      <td>20.0</td>\n",
       "      <td>91.988602</td>\n",
       "      <td>0.0</td>\n",
       "      <td>Education</td>\n",
       "      <td>110272.0</td>\n",
       "      <td>24.406250</td>\n",
       "      <td>4.0</td>\n",
       "      <td>21.093750</td>\n",
       "      <td>-1.0</td>\n",
       "      <td>1020.0</td>\n",
       "      <td>70.0</td>\n",
       "      <td>1.500000</td>\n",
       "    </tr>\n",
       "    <tr>\n",
       "      <th>2016-01-01 02:00:00</th>\n",
       "      <td>20.0</td>\n",
       "      <td>0.000000</td>\n",
       "      <td>0.0</td>\n",
       "      <td>Education</td>\n",
       "      <td>110272.0</td>\n",
       "      <td>22.796875</td>\n",
       "      <td>2.0</td>\n",
       "      <td>21.093750</td>\n",
       "      <td>0.0</td>\n",
       "      <td>1020.0</td>\n",
       "      <td>0.0</td>\n",
       "      <td>0.000000</td>\n",
       "    </tr>\n",
       "    <tr>\n",
       "      <th>2016-01-01 03:00:00</th>\n",
       "      <td>20.0</td>\n",
       "      <td>0.000000</td>\n",
       "      <td>0.0</td>\n",
       "      <td>Education</td>\n",
       "      <td>110272.0</td>\n",
       "      <td>21.093750</td>\n",
       "      <td>2.0</td>\n",
       "      <td>20.593750</td>\n",
       "      <td>0.0</td>\n",
       "      <td>1020.0</td>\n",
       "      <td>0.0</td>\n",
       "      <td>0.000000</td>\n",
       "    </tr>\n",
       "    <tr>\n",
       "      <th>2016-01-01 04:00:00</th>\n",
       "      <td>20.0</td>\n",
       "      <td>0.000000</td>\n",
       "      <td>0.0</td>\n",
       "      <td>Education</td>\n",
       "      <td>110272.0</td>\n",
       "      <td>20.000000</td>\n",
       "      <td>2.0</td>\n",
       "      <td>20.000000</td>\n",
       "      <td>-1.0</td>\n",
       "      <td>1020.0</td>\n",
       "      <td>250.0</td>\n",
       "      <td>2.599609</td>\n",
       "    </tr>\n",
       "    <tr>\n",
       "      <th>...</th>\n",
       "      <td>...</td>\n",
       "      <td>...</td>\n",
       "      <td>...</td>\n",
       "      <td>...</td>\n",
       "      <td>...</td>\n",
       "      <td>...</td>\n",
       "      <td>...</td>\n",
       "      <td>...</td>\n",
       "      <td>...</td>\n",
       "      <td>...</td>\n",
       "      <td>...</td>\n",
       "      <td>...</td>\n",
       "    </tr>\n",
       "    <tr>\n",
       "      <th>2016-12-31 19:00:00</th>\n",
       "      <td>1324.0</td>\n",
       "      <td>13.000000</td>\n",
       "      <td>14.0</td>\n",
       "      <td>Entertainment/public assembly</td>\n",
       "      <td>84688.0</td>\n",
       "      <td>6.699219</td>\n",
       "      <td>0.0</td>\n",
       "      <td>-8.296875</td>\n",
       "      <td>0.0</td>\n",
       "      <td>1016.0</td>\n",
       "      <td>200.0</td>\n",
       "      <td>6.699219</td>\n",
       "    </tr>\n",
       "    <tr>\n",
       "      <th>2016-12-31 20:00:00</th>\n",
       "      <td>1324.0</td>\n",
       "      <td>12.000000</td>\n",
       "      <td>14.0</td>\n",
       "      <td>Entertainment/public assembly</td>\n",
       "      <td>84688.0</td>\n",
       "      <td>5.601562</td>\n",
       "      <td>4.0</td>\n",
       "      <td>-6.699219</td>\n",
       "      <td>0.0</td>\n",
       "      <td>1015.5</td>\n",
       "      <td>200.0</td>\n",
       "      <td>5.699219</td>\n",
       "    </tr>\n",
       "    <tr>\n",
       "      <th>2016-12-31 21:00:00</th>\n",
       "      <td>1324.0</td>\n",
       "      <td>13.000000</td>\n",
       "      <td>14.0</td>\n",
       "      <td>Entertainment/public assembly</td>\n",
       "      <td>84688.0</td>\n",
       "      <td>5.601562</td>\n",
       "      <td>4.0</td>\n",
       "      <td>-6.699219</td>\n",
       "      <td>0.0</td>\n",
       "      <td>1015.0</td>\n",
       "      <td>190.0</td>\n",
       "      <td>5.699219</td>\n",
       "    </tr>\n",
       "    <tr>\n",
       "      <th>2016-12-31 22:00:00</th>\n",
       "      <td>1324.0</td>\n",
       "      <td>12.000000</td>\n",
       "      <td>14.0</td>\n",
       "      <td>Entertainment/public assembly</td>\n",
       "      <td>84688.0</td>\n",
       "      <td>5.601562</td>\n",
       "      <td>4.0</td>\n",
       "      <td>-6.699219</td>\n",
       "      <td>0.0</td>\n",
       "      <td>1014.0</td>\n",
       "      <td>190.0</td>\n",
       "      <td>6.699219</td>\n",
       "    </tr>\n",
       "    <tr>\n",
       "      <th>2016-12-31 23:00:00</th>\n",
       "      <td>1324.0</td>\n",
       "      <td>14.000000</td>\n",
       "      <td>14.0</td>\n",
       "      <td>Entertainment/public assembly</td>\n",
       "      <td>84688.0</td>\n",
       "      <td>6.101562</td>\n",
       "      <td>4.0</td>\n",
       "      <td>-6.699219</td>\n",
       "      <td>-1.0</td>\n",
       "      <td>1012.5</td>\n",
       "      <td>190.0</td>\n",
       "      <td>9.796875</td>\n",
       "    </tr>\n",
       "  </tbody>\n",
       "</table>\n",
       "<p>368928 rows × 12 columns</p>\n",
       "</div>"
      ],
      "text/plain": [
       "                     building_id  meter_reading  site_id  \\\n",
       "2016-01-01 00:00:00         20.0       0.000000      0.0   \n",
       "2016-01-01 01:00:00         20.0      91.988602      0.0   \n",
       "2016-01-01 02:00:00         20.0       0.000000      0.0   \n",
       "2016-01-01 03:00:00         20.0       0.000000      0.0   \n",
       "2016-01-01 04:00:00         20.0       0.000000      0.0   \n",
       "...                          ...            ...      ...   \n",
       "2016-12-31 19:00:00       1324.0      13.000000     14.0   \n",
       "2016-12-31 20:00:00       1324.0      12.000000     14.0   \n",
       "2016-12-31 21:00:00       1324.0      13.000000     14.0   \n",
       "2016-12-31 22:00:00       1324.0      12.000000     14.0   \n",
       "2016-12-31 23:00:00       1324.0      14.000000     14.0   \n",
       "\n",
       "                                       primary_use  square_feet  \\\n",
       "2016-01-01 00:00:00                      Education     110272.0   \n",
       "2016-01-01 01:00:00                      Education     110272.0   \n",
       "2016-01-01 02:00:00                      Education     110272.0   \n",
       "2016-01-01 03:00:00                      Education     110272.0   \n",
       "2016-01-01 04:00:00                      Education     110272.0   \n",
       "...                                            ...          ...   \n",
       "2016-12-31 19:00:00  Entertainment/public assembly      84688.0   \n",
       "2016-12-31 20:00:00  Entertainment/public assembly      84688.0   \n",
       "2016-12-31 21:00:00  Entertainment/public assembly      84688.0   \n",
       "2016-12-31 22:00:00  Entertainment/public assembly      84688.0   \n",
       "2016-12-31 23:00:00  Entertainment/public assembly      84688.0   \n",
       "\n",
       "                     air_temperature  cloud_coverage  dew_temperature  \\\n",
       "2016-01-01 00:00:00        25.000000             6.0        20.000000   \n",
       "2016-01-01 01:00:00        24.406250             4.0        21.093750   \n",
       "2016-01-01 02:00:00        22.796875             2.0        21.093750   \n",
       "2016-01-01 03:00:00        21.093750             2.0        20.593750   \n",
       "2016-01-01 04:00:00        20.000000             2.0        20.000000   \n",
       "...                              ...             ...              ...   \n",
       "2016-12-31 19:00:00         6.699219             0.0        -8.296875   \n",
       "2016-12-31 20:00:00         5.601562             4.0        -6.699219   \n",
       "2016-12-31 21:00:00         5.601562             4.0        -6.699219   \n",
       "2016-12-31 22:00:00         5.601562             4.0        -6.699219   \n",
       "2016-12-31 23:00:00         6.101562             4.0        -6.699219   \n",
       "\n",
       "                     precip_depth_1_hr  sea_level_pressure  wind_direction  \\\n",
       "2016-01-01 00:00:00                0.0              1019.5             0.0   \n",
       "2016-01-01 01:00:00               -1.0              1020.0            70.0   \n",
       "2016-01-01 02:00:00                0.0              1020.0             0.0   \n",
       "2016-01-01 03:00:00                0.0              1020.0             0.0   \n",
       "2016-01-01 04:00:00               -1.0              1020.0           250.0   \n",
       "...                                ...                 ...             ...   \n",
       "2016-12-31 19:00:00                0.0              1016.0           200.0   \n",
       "2016-12-31 20:00:00                0.0              1015.5           200.0   \n",
       "2016-12-31 21:00:00                0.0              1015.0           190.0   \n",
       "2016-12-31 22:00:00                0.0              1014.0           190.0   \n",
       "2016-12-31 23:00:00               -1.0              1012.5           190.0   \n",
       "\n",
       "                     wind_speed  \n",
       "2016-01-01 00:00:00    0.000000  \n",
       "2016-01-01 01:00:00    1.500000  \n",
       "2016-01-01 02:00:00    0.000000  \n",
       "2016-01-01 03:00:00    0.000000  \n",
       "2016-01-01 04:00:00    2.599609  \n",
       "...                         ...  \n",
       "2016-12-31 19:00:00    6.699219  \n",
       "2016-12-31 20:00:00    5.699219  \n",
       "2016-12-31 21:00:00    5.699219  \n",
       "2016-12-31 22:00:00    6.699219  \n",
       "2016-12-31 23:00:00    9.796875  \n",
       "\n",
       "[368928 rows x 12 columns]"
      ]
     },
     "execution_count": 32,
     "metadata": {},
     "output_type": "execute_result"
    }
   ],
   "source": [
    "train_rri"
   ]
  },
  {
   "cell_type": "markdown",
   "id": "e5b64d99",
   "metadata": {
    "papermill": {
     "duration": 0.032765,
     "end_time": "2024-01-28T09:42:58.513774",
     "exception": false,
     "start_time": "2024-01-28T09:42:58.481009",
     "status": "completed"
    },
    "tags": []
   },
   "source": [
    "# Feature engineering & columns preprocessing"
   ]
  },
  {
   "cell_type": "markdown",
   "id": "ffabd1a5",
   "metadata": {
    "papermill": {
     "duration": 0.032004,
     "end_time": "2024-01-28T09:42:58.578473",
     "exception": false,
     "start_time": "2024-01-28T09:42:58.546469",
     "status": "completed"
    },
    "tags": []
   },
   "source": [
    "Previously we saw that there is a clear pattern in temporal change of the mean electricity consumption during the day. So, let's extract this (and similar) information from the dataset and use it as new features."
   ]
  },
  {
   "cell_type": "code",
   "execution_count": 33,
   "id": "e245b600",
   "metadata": {
    "execution": {
     "iopub.execute_input": "2024-01-28T09:42:58.645682Z",
     "iopub.status.busy": "2024-01-28T09:42:58.645263Z",
     "iopub.status.idle": "2024-01-28T09:42:58.795006Z",
     "shell.execute_reply": "2024-01-28T09:42:58.793957Z"
    },
    "papermill": {
     "duration": 0.186683,
     "end_time": "2024-01-28T09:42:58.797573",
     "exception": false,
     "start_time": "2024-01-28T09:42:58.610890",
     "status": "completed"
    },
    "tags": []
   },
   "outputs": [],
   "source": [
    "if fill_metanans_strategy != 'DROP':\n",
    "    train_rri['age'] = train_rri['year_built'].max() - train_rri['year_built'] + 1\n",
    "    train_rri['year_built'] = train_rri['year_built']-1900\n",
    "\n",
    "train_rri['month_datetime'] = train_rri.index.month.astype(np.int8)\n",
    "train_rri['hour_datetime'] = train_rri.index.hour.astype(np.int8)  \n",
    "train_rri['day_week'] = train_rri.index.dayofweek.astype(np.int8)\n",
    "train_rri['day_month_datetime'] = train_rri.index.day.astype(np.int8)\n",
    "\n",
    "train_rri['square_feet'] = np.log(train_rri['square_feet'])"
   ]
  },
  {
   "cell_type": "code",
   "execution_count": 34,
   "id": "533bfc9e",
   "metadata": {
    "execution": {
     "iopub.execute_input": "2024-01-28T09:42:58.863885Z",
     "iopub.status.busy": "2024-01-28T09:42:58.863430Z",
     "iopub.status.idle": "2024-01-28T09:42:58.921499Z",
     "shell.execute_reply": "2024-01-28T09:42:58.920247Z"
    },
    "papermill": {
     "duration": 0.094499,
     "end_time": "2024-01-28T09:42:58.924281",
     "exception": false,
     "start_time": "2024-01-28T09:42:58.829782",
     "status": "completed"
    },
    "tags": []
   },
   "outputs": [],
   "source": [
    "# Convert to more lightweight types to save some memory\n",
    "d_types = {'building_id': np.int16,\n",
    "          'site_id': np.int8,\n",
    "          'primary_use': 'category',\n",
    "          'square_feet': np.int32,\n",
    "          'air_temperature': np.float32,\n",
    "          'cloud_coverage': np.float16,\n",
    "          'dew_temperature': np.float32,\n",
    "          'precip_depth_1_hr': np.float16,\n",
    "          'sea_level_pressure': np.float32,\n",
    "          'wind_direction': np.float16,\n",
    "          'wind_speed': np.float32}\n",
    "if fill_metanans_strategy != 'DROP':\n",
    "    d_types['year_built'] = np.float16,\n",
    "    d_types['floor_count'] = np.float16,\n",
    "\n",
    "for feature in d_types:\n",
    "    train_rri[feature] = train_rri[feature].astype(d_types[feature])"
   ]
  },
  {
   "cell_type": "code",
   "execution_count": 35,
   "id": "ad9e096b",
   "metadata": {
    "execution": {
     "iopub.execute_input": "2024-01-28T09:42:58.992387Z",
     "iopub.status.busy": "2024-01-28T09:42:58.991968Z",
     "iopub.status.idle": "2024-01-28T09:42:59.256290Z",
     "shell.execute_reply": "2024-01-28T09:42:59.255245Z"
    },
    "papermill": {
     "duration": 0.302713,
     "end_time": "2024-01-28T09:42:59.259170",
     "exception": false,
     "start_time": "2024-01-28T09:42:58.956457",
     "status": "completed"
    },
    "tags": []
   },
   "outputs": [],
   "source": [
    "from sklearn.preprocessing import LabelEncoder\n",
    "\n",
    "# Convert our only categorical column to numeric\n",
    "le = LabelEncoder()\n",
    "\n",
    "train_rri['primary_use'] = le.fit_transform(train_rri['primary_use']).astype(np.int8)"
   ]
  },
  {
   "cell_type": "code",
   "execution_count": 36,
   "id": "25a2886a",
   "metadata": {
    "execution": {
     "iopub.execute_input": "2024-01-28T09:42:59.325409Z",
     "iopub.status.busy": "2024-01-28T09:42:59.324993Z",
     "iopub.status.idle": "2024-01-28T09:42:59.631052Z",
     "shell.execute_reply": "2024-01-28T09:42:59.629790Z"
    },
    "papermill": {
     "duration": 0.342356,
     "end_time": "2024-01-28T09:42:59.633544",
     "exception": false,
     "start_time": "2024-01-28T09:42:59.291188",
     "status": "completed"
    },
    "tags": []
   },
   "outputs": [
    {
     "data": {
      "text/html": [
       "<div>\n",
       "<style scoped>\n",
       "    .dataframe tbody tr th:only-of-type {\n",
       "        vertical-align: middle;\n",
       "    }\n",
       "\n",
       "    .dataframe tbody tr th {\n",
       "        vertical-align: top;\n",
       "    }\n",
       "\n",
       "    .dataframe thead th {\n",
       "        text-align: right;\n",
       "    }\n",
       "</style>\n",
       "<table border=\"1\" class=\"dataframe\">\n",
       "  <thead>\n",
       "    <tr style=\"text-align: right;\">\n",
       "      <th></th>\n",
       "      <th>building_id</th>\n",
       "      <th>meter_reading</th>\n",
       "      <th>site_id</th>\n",
       "      <th>primary_use</th>\n",
       "      <th>square_feet</th>\n",
       "      <th>air_temperature</th>\n",
       "      <th>cloud_coverage</th>\n",
       "      <th>dew_temperature</th>\n",
       "      <th>precip_depth_1_hr</th>\n",
       "      <th>sea_level_pressure</th>\n",
       "      <th>wind_direction</th>\n",
       "      <th>wind_speed</th>\n",
       "      <th>month_datetime</th>\n",
       "      <th>hour_datetime</th>\n",
       "      <th>day_week</th>\n",
       "      <th>day_month_datetime</th>\n",
       "    </tr>\n",
       "  </thead>\n",
       "  <tbody>\n",
       "    <tr>\n",
       "      <th>count</th>\n",
       "      <td>368928.000000</td>\n",
       "      <td>368928.000000</td>\n",
       "      <td>368928.000000</td>\n",
       "      <td>368928.000000</td>\n",
       "      <td>368928.000000</td>\n",
       "      <td>368928.000000</td>\n",
       "      <td>368928.0</td>\n",
       "      <td>368928.000000</td>\n",
       "      <td>368928.0</td>\n",
       "      <td>368928.000000</td>\n",
       "      <td>368928.0</td>\n",
       "      <td>368928.000000</td>\n",
       "      <td>368928.000000</td>\n",
       "      <td>368928.000000</td>\n",
       "      <td>368928.000000</td>\n",
       "      <td>368928.000000</td>\n",
       "    </tr>\n",
       "    <tr>\n",
       "      <th>mean</th>\n",
       "      <td>716.595238</td>\n",
       "      <td>157.336060</td>\n",
       "      <td>7.166667</td>\n",
       "      <td>2.595238</td>\n",
       "      <td>10.285714</td>\n",
       "      <td>13.541842</td>\n",
       "      <td>NaN</td>\n",
       "      <td>8.368327</td>\n",
       "      <td>NaN</td>\n",
       "      <td>1016.600769</td>\n",
       "      <td>NaN</td>\n",
       "      <td>3.982878</td>\n",
       "      <td>6.513661</td>\n",
       "      <td>11.500000</td>\n",
       "      <td>3.008197</td>\n",
       "      <td>15.756831</td>\n",
       "    </tr>\n",
       "    <tr>\n",
       "      <th>std</th>\n",
       "      <td>475.833101</td>\n",
       "      <td>219.581131</td>\n",
       "      <td>5.685899</td>\n",
       "      <td>2.450072</td>\n",
       "      <td>0.958316</td>\n",
       "      <td>9.451649</td>\n",
       "      <td>0.0</td>\n",
       "      <td>9.161489</td>\n",
       "      <td>NaN</td>\n",
       "      <td>6.722476</td>\n",
       "      <td>NaN</td>\n",
       "      <td>2.366184</td>\n",
       "      <td>3.451239</td>\n",
       "      <td>6.922196</td>\n",
       "      <td>1.997936</td>\n",
       "      <td>8.811542</td>\n",
       "    </tr>\n",
       "    <tr>\n",
       "      <th>min</th>\n",
       "      <td>20.000000</td>\n",
       "      <td>0.000000</td>\n",
       "      <td>0.000000</td>\n",
       "      <td>0.000000</td>\n",
       "      <td>8.000000</td>\n",
       "      <td>-28.906250</td>\n",
       "      <td>0.0</td>\n",
       "      <td>-31.703125</td>\n",
       "      <td>-1.0</td>\n",
       "      <td>968.000000</td>\n",
       "      <td>0.0</td>\n",
       "      <td>0.000000</td>\n",
       "      <td>1.000000</td>\n",
       "      <td>0.000000</td>\n",
       "      <td>0.000000</td>\n",
       "      <td>1.000000</td>\n",
       "    </tr>\n",
       "    <tr>\n",
       "      <th>25%</th>\n",
       "      <td>114.000000</td>\n",
       "      <td>11.100000</td>\n",
       "      <td>1.000000</td>\n",
       "      <td>0.000000</td>\n",
       "      <td>10.000000</td>\n",
       "      <td>7.000000</td>\n",
       "      <td>0.0</td>\n",
       "      <td>2.800781</td>\n",
       "      <td>0.0</td>\n",
       "      <td>1014.500000</td>\n",
       "      <td>90.0</td>\n",
       "      <td>2.099609</td>\n",
       "      <td>4.000000</td>\n",
       "      <td>5.750000</td>\n",
       "      <td>1.000000</td>\n",
       "      <td>8.000000</td>\n",
       "    </tr>\n",
       "    <tr>\n",
       "      <th>50%</th>\n",
       "      <td>697.000000</td>\n",
       "      <td>64.000000</td>\n",
       "      <td>5.000000</td>\n",
       "      <td>2.500000</td>\n",
       "      <td>11.000000</td>\n",
       "      <td>13.398438</td>\n",
       "      <td>0.0</td>\n",
       "      <td>9.000000</td>\n",
       "      <td>0.0</td>\n",
       "      <td>1017.000000</td>\n",
       "      <td>200.0</td>\n",
       "      <td>3.599609</td>\n",
       "      <td>7.000000</td>\n",
       "      <td>11.500000</td>\n",
       "      <td>3.000000</td>\n",
       "      <td>16.000000</td>\n",
       "    </tr>\n",
       "    <tr>\n",
       "      <th>75%</th>\n",
       "      <td>1178.000000</td>\n",
       "      <td>223.399994</td>\n",
       "      <td>13.000000</td>\n",
       "      <td>5.000000</td>\n",
       "      <td>11.000000</td>\n",
       "      <td>20.593750</td>\n",
       "      <td>4.0</td>\n",
       "      <td>15.000000</td>\n",
       "      <td>0.0</td>\n",
       "      <td>1019.500000</td>\n",
       "      <td>280.0</td>\n",
       "      <td>5.101562</td>\n",
       "      <td>10.000000</td>\n",
       "      <td>17.250000</td>\n",
       "      <td>5.000000</td>\n",
       "      <td>23.000000</td>\n",
       "    </tr>\n",
       "    <tr>\n",
       "      <th>max</th>\n",
       "      <td>1324.000000</td>\n",
       "      <td>1736.430054</td>\n",
       "      <td>14.000000</td>\n",
       "      <td>7.000000</td>\n",
       "      <td>12.000000</td>\n",
       "      <td>36.093750</td>\n",
       "      <td>9.0</td>\n",
       "      <td>25.593750</td>\n",
       "      <td>343.0</td>\n",
       "      <td>1046.000000</td>\n",
       "      <td>360.0</td>\n",
       "      <td>19.000000</td>\n",
       "      <td>12.000000</td>\n",
       "      <td>23.000000</td>\n",
       "      <td>6.000000</td>\n",
       "      <td>31.000000</td>\n",
       "    </tr>\n",
       "  </tbody>\n",
       "</table>\n",
       "</div>"
      ],
      "text/plain": [
       "         building_id  meter_reading        site_id    primary_use  \\\n",
       "count  368928.000000  368928.000000  368928.000000  368928.000000   \n",
       "mean      716.595238     157.336060       7.166667       2.595238   \n",
       "std       475.833101     219.581131       5.685899       2.450072   \n",
       "min        20.000000       0.000000       0.000000       0.000000   \n",
       "25%       114.000000      11.100000       1.000000       0.000000   \n",
       "50%       697.000000      64.000000       5.000000       2.500000   \n",
       "75%      1178.000000     223.399994      13.000000       5.000000   \n",
       "max      1324.000000    1736.430054      14.000000       7.000000   \n",
       "\n",
       "         square_feet  air_temperature  cloud_coverage  dew_temperature  \\\n",
       "count  368928.000000    368928.000000        368928.0    368928.000000   \n",
       "mean       10.285714        13.541842             NaN         8.368327   \n",
       "std         0.958316         9.451649             0.0         9.161489   \n",
       "min         8.000000       -28.906250             0.0       -31.703125   \n",
       "25%        10.000000         7.000000             0.0         2.800781   \n",
       "50%        11.000000        13.398438             0.0         9.000000   \n",
       "75%        11.000000        20.593750             4.0        15.000000   \n",
       "max        12.000000        36.093750             9.0        25.593750   \n",
       "\n",
       "       precip_depth_1_hr  sea_level_pressure  wind_direction     wind_speed  \\\n",
       "count           368928.0       368928.000000        368928.0  368928.000000   \n",
       "mean                 NaN         1016.600769             NaN       3.982878   \n",
       "std                  NaN            6.722476             NaN       2.366184   \n",
       "min                 -1.0          968.000000             0.0       0.000000   \n",
       "25%                  0.0         1014.500000            90.0       2.099609   \n",
       "50%                  0.0         1017.000000           200.0       3.599609   \n",
       "75%                  0.0         1019.500000           280.0       5.101562   \n",
       "max                343.0         1046.000000           360.0      19.000000   \n",
       "\n",
       "       month_datetime  hour_datetime       day_week  day_month_datetime  \n",
       "count   368928.000000  368928.000000  368928.000000       368928.000000  \n",
       "mean         6.513661      11.500000       3.008197           15.756831  \n",
       "std          3.451239       6.922196       1.997936            8.811542  \n",
       "min          1.000000       0.000000       0.000000            1.000000  \n",
       "25%          4.000000       5.750000       1.000000            8.000000  \n",
       "50%          7.000000      11.500000       3.000000           16.000000  \n",
       "75%         10.000000      17.250000       5.000000           23.000000  \n",
       "max         12.000000      23.000000       6.000000           31.000000  "
      ]
     },
     "execution_count": 36,
     "metadata": {},
     "output_type": "execute_result"
    }
   ],
   "source": [
    "train_rri.describe()"
   ]
  },
  {
   "cell_type": "markdown",
   "id": "88c48567",
   "metadata": {
    "papermill": {
     "duration": 0.031731,
     "end_time": "2024-01-28T09:42:59.697665",
     "exception": false,
     "start_time": "2024-01-28T09:42:59.665934",
     "status": "completed"
    },
    "tags": []
   },
   "source": [
    "# Splitting into Training & Testing datasets"
   ]
  },
  {
   "cell_type": "markdown",
   "id": "1ca92778",
   "metadata": {
    "papermill": {
     "duration": 0.032379,
     "end_time": "2024-01-28T09:42:59.762196",
     "exception": false,
     "start_time": "2024-01-28T09:42:59.729817",
     "status": "completed"
    },
    "tags": []
   },
   "source": [
    "Unfortunately, the testing dataset provided by its authors will not work for us, because we don't know the target (y) values for it to be able to compute our own performance metrics.\n",
    "\n",
    "**So, we'll choose the last months of spring, summer and autumn as our testing dataset (25%), leaving everything else for the training.**"
   ]
  },
  {
   "cell_type": "code",
   "execution_count": 37,
   "id": "5368fd59",
   "metadata": {
    "execution": {
     "iopub.execute_input": "2024-01-28T09:42:59.829163Z",
     "iopub.status.busy": "2024-01-28T09:42:59.828748Z",
     "iopub.status.idle": "2024-01-28T09:42:59.884128Z",
     "shell.execute_reply": "2024-01-28T09:42:59.882770Z"
    },
    "papermill": {
     "duration": 0.091616,
     "end_time": "2024-01-28T09:42:59.886592",
     "exception": false,
     "start_time": "2024-01-28T09:42:59.794976",
     "status": "completed"
    },
    "tags": []
   },
   "outputs": [
    {
     "name": "stdout",
     "output_type": "stream",
     "text": [
      "Training dataset length: 276192\n",
      "Test dataset length: 92736\n"
     ]
    }
   ],
   "source": [
    "testing_months = [5, 8, 11]\n",
    "\n",
    "test_df = train_rri[train_rri['month_datetime'].isin(testing_months)]\n",
    "train_df = train_rri[~train_rri['month_datetime'].isin(testing_months)]\n",
    "\n",
    "print('Training dataset length:', len(train_df))\n",
    "print('Test dataset length:', len(test_df))"
   ]
  },
  {
   "cell_type": "code",
   "execution_count": 38,
   "id": "146b223a",
   "metadata": {
    "execution": {
     "iopub.execute_input": "2024-01-28T09:42:59.953972Z",
     "iopub.status.busy": "2024-01-28T09:42:59.953107Z",
     "iopub.status.idle": "2024-01-28T09:42:59.982324Z",
     "shell.execute_reply": "2024-01-28T09:42:59.980906Z"
    },
    "papermill": {
     "duration": 0.066935,
     "end_time": "2024-01-28T09:42:59.985695",
     "exception": false,
     "start_time": "2024-01-28T09:42:59.918760",
     "status": "completed"
    },
    "tags": []
   },
   "outputs": [],
   "source": [
    "# Save the datasets to be used later...\n",
    "train_df.to_pickle('train_df.pkl')\n",
    "test_df.to_pickle('test_df.pkl')"
   ]
  }
 ],
 "metadata": {
  "kaggle": {
   "accelerator": "none",
   "dataSources": [
    {
     "databundleVersionId": 752467,
     "sourceId": 9994,
     "sourceType": "competition"
    }
   ],
   "dockerImageVersionId": 30626,
   "isGpuEnabled": false,
   "isInternetEnabled": true,
   "language": "python",
   "sourceType": "notebook"
  },
  "kernelspec": {
   "display_name": "Python 3",
   "language": "python",
   "name": "python3"
  },
  "language_info": {
   "codemirror_mode": {
    "name": "ipython",
    "version": 3
   },
   "file_extension": ".py",
   "mimetype": "text/x-python",
   "name": "python",
   "nbconvert_exporter": "python",
   "pygments_lexer": "ipython3",
   "version": "3.10.12"
  },
  "papermill": {
   "default_parameters": {},
   "duration": 479.426957,
   "end_time": "2024-01-28T09:43:02.351543",
   "environment_variables": {},
   "exception": null,
   "input_path": "__notebook__.ipynb",
   "output_path": "__notebook__.ipynb",
   "parameters": {},
   "start_time": "2024-01-28T09:35:02.924586",
   "version": "2.4.0"
  }
 },
 "nbformat": 4,
 "nbformat_minor": 5
}
